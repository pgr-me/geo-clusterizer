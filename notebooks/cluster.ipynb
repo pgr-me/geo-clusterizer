{
 "cells": [
  {
   "cell_type": "markdown",
   "metadata": {},
   "source": [
    "### Notebook boilerplate"
   ]
  },
  {
   "cell_type": "code",
   "execution_count": 3,
   "metadata": {},
   "outputs": [],
   "source": [
    "from pathlib import Path\n",
    "notebooks_dir = Path('.').resolve()\n",
    "root_dir = notebooks_dir.parents[0]\n",
    "import sys\n",
    "sys.path.append(str(root_dir))\n",
    "from settings import *\n",
    "def fix_path(path):\n",
    "    \"\"\"Hacky fix to make paths behave when importing from upstream module\"\"\"\n",
    "    return Path(str(path).replace('notebooks/', ''))\n",
    "PROCESSED_DIR = fix_path(PROCESSED_DIR)\n",
    "INTERIM_DIR = fix_path(INTERIM_DIR)\n",
    "MODELS_DIR = fix_path(MODELS_DIR)"
   ]
  },
  {
   "cell_type": "code",
   "execution_count": 4,
   "metadata": {},
   "outputs": [
    {
     "name": "stdout",
     "output_type": "stream",
     "text": [
      "Install CUDA and cudamat (for python) to enable GPU speedups.\n"
     ]
    }
   ],
   "source": [
    "from importlib import reload\n",
    "import pickle\n",
    "import numpy as np\n",
    "import pandas as pd\n",
    "import seaborn as sns\n",
    "import linearcorex as lc\n",
    "from sklearn.mixture import GaussianMixture\n",
    "from sklearn.model_selection import train_test_split"
   ]
  },
  {
   "cell_type": "code",
   "execution_count": 5,
   "metadata": {},
   "outputs": [],
   "source": [
    "def find_elbow(s: pd.Series, keep='last')->dict:\n",
    "    \"\"\"Find the number of components at the elbow of a BIC scree plot\"\"\"\n",
    "    if type(s) is not pd.Series:\n",
    "        raise TypeError('Must provide Pandas Series object as an argument')\n",
    "    frame = s.rename('bic').to_frame()\n",
    "    frame['bic_pct_change'] = frame['bic'].pct_change()\n",
    "    frame['bic_pct_change2'] = frame['bic_pct_change'].pct_change()\n",
    "    frame['criteria_1'] = frame['bic_pct_change2'] < 0\n",
    "    frame['criteria_2'] = frame['bic_pct_change2'].shift(1) > 0\n",
    "    frame['criteria_3'] = frame['bic_pct_change'].shift(-1) < frame['bic_pct_change']\n",
    "    frame['criteria_4'] = frame.isnull().sum(axis=1) == 0\n",
    "    frame['criteria_5'] = frame.shift(-1)['bic_pct_change'] < 0\n",
    "    frame['score'] = frame.loc[:, 'criteria_1': 'criteria_5'].sum(axis=1)\n",
    "    return {'elbow': frame.drop_duplicates('score', keep=keep)['score'].idxmax(), 'scores': frame}\n",
    "\n",
    "\n",
    "def label_data(frame, model):\n",
    "    frame['cluster'] = model.predict(X)\n",
    "    ix = ['geoid', 'state_abbr', 'logrecno', 'geo_label', 'cluster']\n",
    "    return frame.reset_index().set_index(ix)\n",
    "\n",
    "\n",
    "def train_gaussian_mixture_models(X: np.array,\n",
    "                                 n_components_li,\n",
    "                                 random_state,\n",
    "                                 verbose=False):\n",
    "    \"\"\"Train a set of Gaussian Mixture models and summary statistics for each model\"\"\"\n",
    "    gm_outputs = {}\n",
    "    for n_components in n_components_li:\n",
    "        gm = GaussianMixture(n_components=n_components,\n",
    "                            n_init=1,\n",
    "                            covariance_type='full',\n",
    "                            warm_start=True,\n",
    "                            verbose=verbose,\n",
    "                            random_state=random_state)\n",
    "        gm.fit(X)\n",
    "        aic = gm.aic(X)\n",
    "        bic = gm.bic(X)\n",
    "        if verbose:\n",
    "            print(f'n_components={n_components}, AIC={round(aic)}, BIC={round(bic)})')\n",
    "        gm_outputs[n_components] = {'model': gm, 'aic': aic, 'bic': bic}\n",
    "    return gm_outputs\n",
    "\n",
    "\n",
    "src = PROCESSED_DIR / 'scaled_imputed_data.pkl'\n",
    "orig_src = INTERIM_DIR / 'acs__preprocessed_tables.pkl'\n",
    "corex_obj_src = PROCESSED_DIR / 'selected_n_components.pkl'\n",
    "gm_dst = MODELS_DIR / 'gaussian_mixture.pkl'\n",
    "ce_dst = MODELS_DIR / 'corex.pkl'\n",
    "labeled_dst = PROCESSED_DIR / 'labeled.pkl'\n",
    "labeled_orig_dst = PROCESSED_DIR / 'labeled_orig.pkl'\n",
    "figsize = (8, 4)\n",
    "sns.set()\n"
   ]
  },
  {
   "cell_type": "markdown",
   "metadata": {},
   "source": [
    "### Load data"
   ]
  },
  {
   "cell_type": "code",
   "execution_count": 6,
   "metadata": {},
   "outputs": [],
   "source": [
    "df_orig = pd.read_pickle(orig_src)\n",
    "df = pd.read_pickle(src)\n",
    "with open(str(corex_obj_src), 'rb') as f:\n",
    "    corex_obj = pickle.load(f)\n",
    "selected_n_components = corex_obj['n_components']"
   ]
  },
  {
   "cell_type": "code",
   "execution_count": 7,
   "metadata": {},
   "outputs": [
    {
     "data": {
      "text/plain": [
       "19"
      ]
     },
     "execution_count": 7,
     "metadata": {},
     "output_type": "execute_result"
    }
   ],
   "source": [
    "selected_n_components"
   ]
  },
  {
   "cell_type": "markdown",
   "metadata": {},
   "source": [
    "### Train Corex model"
   ]
  },
  {
   "cell_type": "code",
   "execution_count": 5,
   "metadata": {},
   "outputs": [
    {
     "name": "stdout",
     "output_type": "stream",
     "text": [
      "Linear CorEx with 19 latent factors\n",
      "Warning: step size becoming too small\n",
      "895 iterations to tol: 0.000010, TC=250.546120\n",
      "317 iterations to tol: 0.000010, TC=434.846882\n",
      "58 iterations to tol: 0.000010, TC=554.895000\n",
      "18 iterations to tol: 0.000010, TC=635.285477\n",
      "19 iterations to tol: 0.000010, TC=695.014568\n",
      "Warning: step size becoming too small\n",
      "34 iterations to tol: 0.000010, TC=747.083988\n",
      "Warning: covariance is nearly singular and this causes a loss of numerical precision.For this reason, we can no longer find an update that increases the objective. Hopefully this is a good solution. If not, this is caused by having many variables that are near duplicates. You could try again with the duplicates removed to look for other structure.\n",
      "6 iterations to tol: 0.000010, TC=895.495949\n"
     ]
    },
    {
     "data": {
      "text/plain": [
       "<linearcorex.linearcorex.Corex at 0x7f2e4420deb0>"
      ]
     },
     "execution_count": 5,
     "metadata": {},
     "output_type": "execute_result"
    }
   ],
   "source": [
    "ce_model = lc.Corex(n_hidden=selected_n_components, gaussianize='outliers', verbose=True, seed=RANDOM_STATE)\n",
    "ce_model.fit(df.sample(N_SAMPLES, random_state=RANDOM_STATE, replace=True).values)"
   ]
  },
  {
   "cell_type": "markdown",
   "metadata": {},
   "source": [
    "### Map hidden layers to original features"
   ]
  },
  {
   "cell_type": "code",
   "execution_count": 6,
   "metadata": {},
   "outputs": [
    {
     "data": {
      "text/html": [
       "<div>\n",
       "<style scoped>\n",
       "    .dataframe tbody tr th:only-of-type {\n",
       "        vertical-align: middle;\n",
       "    }\n",
       "\n",
       "    .dataframe tbody tr th {\n",
       "        vertical-align: top;\n",
       "    }\n",
       "\n",
       "    .dataframe thead th {\n",
       "        text-align: right;\n",
       "    }\n",
       "</style>\n",
       "<table border=\"1\" class=\"dataframe\">\n",
       "  <thead>\n",
       "    <tr style=\"text-align: right;\">\n",
       "      <th></th>\n",
       "      <th>component</th>\n",
       "    </tr>\n",
       "  </thead>\n",
       "  <tbody>\n",
       "    <tr>\n",
       "      <th>housing__b25013__total</th>\n",
       "      <td>0</td>\n",
       "    </tr>\n",
       "    <tr>\n",
       "      <th>hh_fams__b11007__households_with_no_people_65_years_and_over</th>\n",
       "      <td>0</td>\n",
       "    </tr>\n",
       "    <tr>\n",
       "      <th>inc__b19054__no_interest_dividends_or_net_rental_income</th>\n",
       "      <td>0</td>\n",
       "    </tr>\n",
       "    <tr>\n",
       "      <th>hh_fams__b11001__total</th>\n",
       "      <td>0</td>\n",
       "    </tr>\n",
       "    <tr>\n",
       "      <th>housing__b25128__total</th>\n",
       "      <td>0</td>\n",
       "    </tr>\n",
       "    <tr>\n",
       "      <th>...</th>\n",
       "      <td>...</td>\n",
       "    </tr>\n",
       "    <tr>\n",
       "      <th>mi__fertility__b13002a__now_married_(including_separated_and_spouse_absent)</th>\n",
       "      <td>18</td>\n",
       "    </tr>\n",
       "    <tr>\n",
       "      <th>mi__fertility__b13002a__total</th>\n",
       "      <td>18</td>\n",
       "    </tr>\n",
       "    <tr>\n",
       "      <th>mi__fertility__b13002a__women_who_did_not_have_a_birth_in_the_past_12_months</th>\n",
       "      <td>18</td>\n",
       "    </tr>\n",
       "    <tr>\n",
       "      <th>mi__hh_fams__b11004__total</th>\n",
       "      <td>18</td>\n",
       "    </tr>\n",
       "    <tr>\n",
       "      <th>mi__fertility__b13002a__unmarried_(never_married_widowed_and_divorced)</th>\n",
       "      <td>18</td>\n",
       "    </tr>\n",
       "  </tbody>\n",
       "</table>\n",
       "<p>1006 rows × 1 columns</p>\n",
       "</div>"
      ],
      "text/plain": [
       "                                                    component\n",
       "housing__b25013__total                                      0\n",
       "hh_fams__b11007__households_with_no_people_65_y...          0\n",
       "inc__b19054__no_interest_dividends_or_net_renta...          0\n",
       "hh_fams__b11001__total                                      0\n",
       "housing__b25128__total                                      0\n",
       "...                                                       ...\n",
       "mi__fertility__b13002a__now_married_(including_...         18\n",
       "mi__fertility__b13002a__total                              18\n",
       "mi__fertility__b13002a__women_who_did_not_have_...         18\n",
       "mi__hh_fams__b11004__total                                 18\n",
       "mi__fertility__b13002a__unmarried_(never_marrie...         18\n",
       "\n",
       "[1006 rows x 1 columns]"
      ]
     },
     "execution_count": 6,
     "metadata": {},
     "output_type": "execute_result"
    }
   ],
   "source": [
    "index = [x+1 for x in range(selected_n_components)]\n",
    "ce_map = pd.Series(ce_model.clusters(), index=df.columns, name='component').to_frame().sort_index().sort_values(by='component')\n",
    "ce_map"
   ]
  },
  {
   "cell_type": "markdown",
   "metadata": {},
   "source": [
    "#### Components:\n",
    "* 0: Missing age and sex demos\n",
    "* 1: Family, health insurance, disability, fertility, school enrollment\n",
    "* 2: Missing native birthplace demos\n",
    "* 3: Missing school enrollment\n",
    "* 4: Income, housing\n",
    "* 5: Missing educational attainment\n",
    "* 6: Fertility and health\n",
    "* 7: Missing housing\n",
    "\n",
    "* 13: Demos for the elderly"
   ]
  },
  {
   "cell_type": "code",
   "execution_count": 1,
   "metadata": {},
   "outputs": [
    {
     "ename": "NameError",
     "evalue": "name 'ce_map' is not defined",
     "output_type": "error",
     "traceback": [
      "\u001b[0;31m---------------------------------------------------------------------------\u001b[0m",
      "\u001b[0;31mNameError\u001b[0m                                 Traceback (most recent call last)",
      "\u001b[0;32m<ipython-input-1-c896d27d43ef>\u001b[0m in \u001b[0;36m<module>\u001b[0;34m\u001b[0m\n\u001b[0;32m----> 1\u001b[0;31m \u001b[0mce_map\u001b[0m\u001b[0;34m\u001b[0m\u001b[0;34m\u001b[0m\u001b[0m\n\u001b[0m",
      "\u001b[0;31mNameError\u001b[0m: name 'ce_map' is not defined"
     ]
    }
   ],
   "source": [
    "ce_map"
   ]
  },
  {
   "cell_type": "code",
   "execution_count": 7,
   "metadata": {},
   "outputs": [
    {
     "name": "stdout",
     "output_type": "stream",
     "text": [
      "hh_fams__b11001__total\n",
      "hh_fams__b11007__households_with_no_people_65_years_and_over\n",
      "hh_fams__b11007__total\n",
      "hh_fams__b11015__households_with_no_nonrelatives\n",
      "hh_fams__b11015__total\n",
      "housing__b25001__total\n",
      "housing__b25002__occupied\n",
      "housing__b25002__total\n",
      "housing__b25003__total\n",
      "housing__b25013__total\n",
      "housing__b25128__total\n",
      "inc__b19051__total\n",
      "inc__b19051__with_earnings\n",
      "inc__b19052__total\n",
      "inc__b19052__with_wage_or_salary_income\n",
      "inc__b19053__no_self-employment_income\n",
      "inc__b19053__total\n",
      "inc__b19054__no_interest_dividends_or_net_rental_income\n",
      "inc__b19054__total\n",
      "inc__b19055__no_social_security_income\n",
      "inc__b19055__total\n",
      "inc__b19056__no_supplemental_security_income_(ssi)\n",
      "inc__b19056__total\n",
      "inc__b19057__no_public_assistance_income\n",
      "inc__b19057__total\n",
      "inc__b19058__no_cash_public_assistance_or_food_stampssnap\n",
      "inc__b19058__total\n",
      "inc__b19059__no_retirement_income\n",
      "inc__b19059__total\n",
      "inc__b19060__no_other_types_of_income\n",
      "inc__b19060__total\n",
      "transfer_progs__b22001__household_did_not_receive_food_stampssnap_in_the_past_12_months\n",
      "transfer_progs__b22001__total\n",
      "transfer_progs__b22003__household_did_not_receive_food_stampssnap_in_the_past_12_months\n",
      "transfer_progs__b22003__income_in_the_past_12_months_at_or_above_poverty_level\n",
      "transfer_progs__b22003__total\n",
      "vet_status__b21001__female\n",
      "---\n"
     ]
    }
   ],
   "source": [
    "[print(feature) for feature, _ in ce_map.query('component==0').sort_index().iterrows()]\n",
    "print('---')"
   ]
  },
  {
   "cell_type": "code",
   "execution_count": 8,
   "metadata": {},
   "outputs": [
    {
     "name": "stdout",
     "output_type": "stream",
     "text": [
      "Factor 1\n",
      "mi__age_sex__b01001a__10_to_14_years\n",
      "mi__age_sex__b01001a__15_to_17_years\n",
      "mi__age_sex__b01001a__18_and_19_years\n",
      "mi__age_sex__b01001a__20_to_24_years\n",
      "mi__age_sex__b01001a__25_to_29_years\n",
      "mi__age_sex__b01001a__30_to_34_years\n",
      "mi__age_sex__b01001a__35_to_44_years\n",
      "mi__age_sex__b01001a__45_to_54_years\n",
      "mi__age_sex__b01001a__55_to_64_years\n",
      "mi__age_sex__b01001a__5_to_9_years\n",
      "mi__age_sex__b01001a__65_to_74_years\n",
      "mi__age_sex__b01001a__75_to_84_years\n",
      "mi__age_sex__b01001a__85_years_and_over\n",
      "mi__age_sex__b01001a__female\n",
      "mi__age_sex__b01001a__male\n",
      "mi__age_sex__b01001a__total\n",
      "mi__age_sex__b01001a__under_5_years\n",
      "---\n"
     ]
    }
   ],
   "source": [
    "factor = 1\n",
    "print(f'Factor {factor}')\n",
    "[print(feature) for feature, _ in ce_map.query('component==@factor').sort_index().iterrows()]\n",
    "print('---')"
   ]
  },
  {
   "cell_type": "code",
   "execution_count": 9,
   "metadata": {},
   "outputs": [
    {
     "name": "stdout",
     "output_type": "stream",
     "text": [
      "mi__native_birthplace__b06001__18_to_24_years\n",
      "mi__native_birthplace__b06001__25_to_34_years\n",
      "mi__native_birthplace__b06001__35_to_44_years\n",
      "mi__native_birthplace__b06001__45_to_54_years\n",
      "mi__native_birthplace__b06001__55_to_59_years\n",
      "mi__native_birthplace__b06001__5_to_17_years\n",
      "mi__native_birthplace__b06001__60_and_61_years\n",
      "mi__native_birthplace__b06001__62_to_64_years\n",
      "mi__native_birthplace__b06001__65_to_74_years\n",
      "mi__native_birthplace__b06001__75_years_and_over\n",
      "mi__native_birthplace__b06001__born_in_other_state_in_the_united_states\n",
      "mi__native_birthplace__b06001__born_in_state_of_residence\n",
      "mi__native_birthplace__b06001__foreign_born\n",
      "mi__native_birthplace__b06001__native;_born_outside_the_united_states\n",
      "mi__native_birthplace__b06001__total\n",
      "mi__native_birthplace__b06001__under_5_years\n",
      "---\n"
     ]
    }
   ],
   "source": [
    "[print(feature) for feature, _ in ce_map.query('component==2').sort_index().iterrows()]\n",
    "print('---')"
   ]
  },
  {
   "cell_type": "code",
   "execution_count": 10,
   "metadata": {},
   "outputs": [
    {
     "name": "stdout",
     "output_type": "stream",
     "text": [
      "Factor 3\n",
      "mi__school_enroll__b14001__enrolled_in_college_undergraduate_years\n",
      "mi__school_enroll__b14001__enrolled_in_grade_1_to_grade_4\n",
      "mi__school_enroll__b14001__enrolled_in_grade_5_to_grade_8\n",
      "mi__school_enroll__b14001__enrolled_in_grade_9_to_grade_12\n",
      "mi__school_enroll__b14001__enrolled_in_kindergarten\n",
      "mi__school_enroll__b14001__enrolled_in_nursery_school_preschool\n",
      "mi__school_enroll__b14001__enrolled_in_school\n",
      "mi__school_enroll__b14001__graduate_or_professional_school\n",
      "mi__school_enroll__b14001__not_enrolled_in_school\n",
      "mi__school_enroll__b14001__total\n",
      "mi__school_enroll__b14002__enrolled_in_college_undergraduate_years\n",
      "mi__school_enroll__b14002__enrolled_in_grade_1_to_grade_4\n",
      "mi__school_enroll__b14002__enrolled_in_grade_5_to_grade_8\n",
      "mi__school_enroll__b14002__enrolled_in_grade_9_to_grade_12\n",
      "mi__school_enroll__b14002__enrolled_in_graduate_or_professional_school\n",
      "mi__school_enroll__b14002__enrolled_in_kindergarten\n",
      "mi__school_enroll__b14002__enrolled_in_nursery_school_preschool\n",
      "mi__school_enroll__b14002__enrolled_in_school\n",
      "mi__school_enroll__b14002__female\n",
      "mi__school_enroll__b14002__male\n",
      "mi__school_enroll__b14002__not_enrolled_in_school\n",
      "mi__school_enroll__b14002__private_school\n",
      "mi__school_enroll__b14002__public_school\n",
      "mi__school_enroll__b14002__total\n",
      "mi__school_enroll__b14006__enrolled_in_college_undergraduate_years\n",
      "mi__school_enroll__b14006__enrolled_in_grade_1_to_grade_4\n",
      "mi__school_enroll__b14006__enrolled_in_grade_5_to_grade_8\n",
      "mi__school_enroll__b14006__enrolled_in_grade_9_to_grade_12\n",
      "mi__school_enroll__b14006__enrolled_in_graduate_or_professional_school\n",
      "mi__school_enroll__b14006__enrolled_in_kindergarten\n",
      "mi__school_enroll__b14006__enrolled_in_nursery_school_preschool\n",
      "mi__school_enroll__b14006__enrolled_in_school\n",
      "mi__school_enroll__b14006__income_in_the_past_12_months_at_or_above_the_poverty_level\n",
      "mi__school_enroll__b14006__income_in_the_past_12_months_below_the_poverty_level\n",
      "mi__school_enroll__b14006__not_enrolled_in_school\n",
      "mi__school_enroll__b14006__total\n",
      "---\n"
     ]
    }
   ],
   "source": [
    "factor = 3\n",
    "print(f'Factor {factor}')\n",
    "[print(feature) for feature, _ in ce_map.query('component==@factor').sort_index().iterrows()]\n",
    "print('---')"
   ]
  },
  {
   "cell_type": "code",
   "execution_count": 11,
   "metadata": {},
   "outputs": [
    {
     "name": "stdout",
     "output_type": "stream",
     "text": [
      "Factor 4\n",
      "age_sex__b01003__total\n",
      "disability__b18101__35_to_64_years\n",
      "disability__b18101__5_to_17_years\n",
      "disability__b18101__female\n",
      "disability__b18101__male\n",
      "disability__b18101__total\n",
      "disability__b18101__under_5_years\n",
      "disability__b18102__35_to_64_years\n",
      "disability__b18102__5_to_17_years\n",
      "disability__b18102__female\n",
      "disability__b18102__male\n",
      "disability__b18102__total\n",
      "disability__b18102__under_5_years\n",
      "emp_status__b23010__with_own_children_of_the_householder_under_18_years\n",
      "emp_status__b23018__male\n",
      "fertility__b13002__now_married_(including_separated_and_spouse_absent)\n",
      "fertility__b13002__women_who_had_a_birth_in_the_past_12_months\n",
      "fertility__b13004__now_married_(including_separated_and_spouse_absent)\n",
      "fertility__b13004__women_who_had_a_birth_in_the_past_12_months\n",
      "fertility__b13008__now_married_(including_separated_and_spouse_absent)\n",
      "fertility__b13008__women_who_had_a_birth_in_the_past_12_months\n",
      "fertility__b13010__now_married_(including_separated_and_spouse_absent)\n",
      "fertility__b13010__women_who_had_a_birth_in_the_past_12_months\n",
      "fertility__b13012__now_married_(including_separated_and_spouse_absent)\n",
      "fertility__b13012__women_who_had_a_birth_in_the_past_12_months\n",
      "fertility__b13016__40_to_44_years_old\n",
      "fertility__b13016__women_who_had_a_birth_in_the_past_12_months\n",
      "health_insurance__b27001__35_to_44_years\n",
      "health_insurance__b27001__45_to_54_years\n",
      "health_insurance__b27001__6_to_18_years\n",
      "health_insurance__b27001__female\n",
      "health_insurance__b27001__male\n",
      "health_insurance__b27001__total\n",
      "health_insurance__b27001__under_6_years\n",
      "health_insurance__c27006__female\n",
      "health_insurance__c27006__male\n",
      "health_insurance__c27006__total\n",
      "health_insurance__c27006__under_19_years\n",
      "health_insurance__c27007__female\n",
      "health_insurance__c27007__male\n",
      "health_insurance__c27007__total\n",
      "health_insurance__c27007__under_19_years\n",
      "health_insurance__c27008__female\n",
      "health_insurance__c27008__male\n",
      "health_insurance__c27008__total\n",
      "health_insurance__c27008__under_19_years\n",
      "health_insurance__c27009__female\n",
      "health_insurance__c27009__male\n",
      "health_insurance__c27009__total\n",
      "health_insurance__c27009__under_19_years\n",
      "hh_fams__b11001__family_households\n",
      "hh_fams__b11002__in_family_households\n",
      "hh_fams__b11002__in_male_householder_no_wife_present_family\n",
      "hh_fams__b11002__in_married-couple_family\n",
      "hh_fams__b11002__total\n",
      "hh_fams__b11003__total\n",
      "hh_fams__b11004__total\n",
      "hh_fams__b11007__2-or-more-person_household\n",
      "hh_fams__b11007__family_households\n",
      "marital_status__b12001__female\n",
      "marital_status__b12001__male\n",
      "marital_status__b12001__now_married\n",
      "marital_status__b12001__total\n",
      "mi__hh_fams__b11001__family_households\n",
      "mi__hh_fams__b11001__female_householder_no_husband_present\n",
      "mi__hh_fams__b11001__householder_living_alone\n",
      "mi__hh_fams__b11001__householder_not_living_alone\n",
      "mi__hh_fams__b11001__male_householder_no_wife_present\n",
      "mi__hh_fams__b11001__married-couple_family\n",
      "mi__hh_fams__b11001__nonfamily_households\n",
      "mi__hh_fams__b11001__other_family\n",
      "mi__hh_fams__b11001__total\n",
      "native_birthplace__b06001__total\n",
      "poverty__b17019__income_in_the_past_12_months_at_or_above_poverty_level\n",
      "poverty__b17019__male_householder_no_wife_present\n",
      "poverty__b17019__total\n",
      "poverty__b17020__12_to_17_years\n",
      "poverty__b17020__18_to_59_years\n",
      "poverty__b17020__6_to_11_years\n",
      "poverty__b17020__income_in_the_past_12_months_at_or_above_poverty_level\n",
      "poverty__b17020__total\n",
      "poverty__b17020__under_6_years\n",
      "poverty__b17025__income_in_the_past_12_months_at_or_above_poverty_level\n",
      "poverty__b17025__total\n",
      "poverty__c17002__total\n",
      "school_enroll__b14001__enrolled_in_grade_1_to_grade_4\n",
      "school_enroll__b14001__enrolled_in_grade_5_to_grade_8\n",
      "school_enroll__b14001__enrolled_in_grade_9_to_grade_12\n",
      "school_enroll__b14001__enrolled_in_kindergarten\n",
      "school_enroll__b14001__enrolled_in_nursery_school_preschool\n",
      "school_enroll__b14001__enrolled_in_school\n",
      "school_enroll__b14001__not_enrolled_in_school\n",
      "school_enroll__b14001__total\n",
      "school_enroll__b14002__enrolled_in_grade_1_to_grade_4\n",
      "school_enroll__b14002__enrolled_in_grade_5_to_grade_8\n",
      "school_enroll__b14002__enrolled_in_grade_9_to_grade_12\n",
      "school_enroll__b14002__enrolled_in_kindergarten\n",
      "school_enroll__b14002__enrolled_in_nursery_school_preschool\n",
      "school_enroll__b14002__enrolled_in_school\n",
      "school_enroll__b14002__female\n",
      "school_enroll__b14002__male\n",
      "school_enroll__b14002__not_enrolled_in_school\n",
      "school_enroll__b14002__total\n",
      "school_enroll__b14006__enrolled_in_college_undergraduate_years\n",
      "school_enroll__b14006__enrolled_in_grade_1_to_grade_4\n",
      "school_enroll__b14006__enrolled_in_grade_5_to_grade_8\n",
      "school_enroll__b14006__enrolled_in_grade_9_to_grade_12\n",
      "school_enroll__b14006__enrolled_in_kindergarten\n",
      "school_enroll__b14006__enrolled_in_school\n",
      "school_enroll__b14006__income_in_the_past_12_months_at_or_above_the_poverty_level\n",
      "school_enroll__b14006__not_enrolled_in_school\n",
      "school_enroll__b14006__total\n",
      "vet_status__b21001__35_to_54_years\n",
      "vet_status__b21001__male\n",
      "vet_status__b21001__total\n",
      "vet_status__b21003__nonveteran\n",
      "vet_status__b21003__some_college_or_associate's_degree\n",
      "vet_status__b21003__total\n",
      "---\n"
     ]
    }
   ],
   "source": [
    "factor = 4\n",
    "print(f'Factor {factor}')\n",
    "[print(feature) for feature, _ in ce_map.query('component==@factor').sort_index().iterrows()]\n",
    "print('---')"
   ]
  },
  {
   "cell_type": "code",
   "execution_count": 12,
   "metadata": {},
   "outputs": [
    {
     "name": "stdout",
     "output_type": "stream",
     "text": [
      "Factor 5\n",
      "mi__edu_attain__b15011__25_to_39_years\n",
      "mi__edu_attain__b15011__40_to_64_years\n",
      "mi__edu_attain__b15011__65_years_and_over\n",
      "mi__edu_attain__b15011__arts_humanities_and_other\n",
      "mi__edu_attain__b15011__business\n",
      "mi__edu_attain__b15011__education\n",
      "mi__edu_attain__b15011__female\n",
      "mi__edu_attain__b15011__male\n",
      "mi__edu_attain__b15011__science_and_engineering\n",
      "mi__edu_attain__b15011__science_and_engineering_related_fields\n",
      "mi__edu_attain__b15011__total\n",
      "---\n"
     ]
    }
   ],
   "source": [
    "factor = 5\n",
    "print(f'Factor {factor}')\n",
    "[print(feature) for feature, _ in ce_map.query('component==@factor').sort_index().iterrows()]\n",
    "print('---')"
   ]
  },
  {
   "cell_type": "code",
   "execution_count": 13,
   "metadata": {},
   "outputs": [
    {
     "name": "stdout",
     "output_type": "stream",
     "text": [
      "Factor 6\n",
      "mi__fertility__b13002__15_to_19_years_old\n",
      "mi__fertility__b13002__20_to_34_years_old\n",
      "mi__fertility__b13002__35_to_50_years_old\n",
      "mi__fertility__b13002__now_married_(including_separated_and_spouse_absent)\n",
      "mi__fertility__b13002__total\n",
      "mi__fertility__b13002__unmarried_(never_married_widowed_and_divorced)\n",
      "mi__fertility__b13002__women_who_did_not_have_a_birth_in_the_past_12_months\n",
      "mi__fertility__b13002__women_who_had_a_birth_in_the_past_12_months\n",
      "mi__fertility__b13016__15_to_19_years_old\n",
      "mi__fertility__b13016__20_to_24_years_old\n",
      "mi__fertility__b13016__25_to_29_years_old\n",
      "mi__fertility__b13016__30_to_34_years_old\n",
      "mi__fertility__b13016__35_to_39_years_old\n",
      "mi__fertility__b13016__40_to_44_years_old\n",
      "mi__fertility__b13016__45_to_50_years_old\n",
      "mi__fertility__b13016__total\n",
      "mi__fertility__b13016__women_who_did_not_have_a_birth_in_the_past_12_months\n",
      "mi__fertility__b13016__women_who_had_a_birth_in_the_past_12_months\n",
      "---\n"
     ]
    }
   ],
   "source": [
    "factor = 6\n",
    "print(f'Factor {factor}')\n",
    "[print(feature) for feature, _ in ce_map.query('component==@factor').sort_index().iterrows()]\n",
    "print('---')"
   ]
  },
  {
   "cell_type": "code",
   "execution_count": 14,
   "metadata": {},
   "outputs": [
    {
     "name": "stdout",
     "output_type": "stream",
     "text": [
      "Factor 7\n",
      "mi__housing__b25128__householder_15_to_34_years\n",
      "mi__housing__b25128__householder_35_to_64_years\n",
      "mi__housing__b25128__householder_65_years_and_over\n",
      "mi__housing__b25128__moved_in_1989_or_earlier\n",
      "mi__housing__b25128__moved_in_1990_to_1999\n",
      "mi__housing__b25128__moved_in_2000_to_2009\n",
      "mi__housing__b25128__moved_in_2010_to_2014\n",
      "mi__housing__b25128__moved_in_2015_to_2016\n",
      "mi__housing__b25128__moved_in_2017_or_later\n",
      "mi__housing__b25128__owner_occupied\n",
      "mi__housing__b25128__renter_occupied\n",
      "mi__housing__b25128__total\n",
      "---\n"
     ]
    }
   ],
   "source": [
    "factor = 7\n",
    "print(f'Factor {factor}')\n",
    "[print(feature) for feature, _ in ce_map.query('component==@factor').sort_index().iterrows()]\n",
    "print('---')"
   ]
  },
  {
   "cell_type": "code",
   "execution_count": 15,
   "metadata": {},
   "outputs": [
    {
     "name": "stdout",
     "output_type": "stream",
     "text": [
      "Factor 8\n",
      "mi__hh_fams__b11003__6_to_17_years_only\n",
      "mi__hh_fams__b11003__female_householder_no_husband_present\n",
      "mi__hh_fams__b11003__male_householder_no_wife_present\n",
      "mi__hh_fams__b11003__married-couple_family\n",
      "mi__hh_fams__b11003__no_own_children_of_the_householder_under_18_years\n",
      "mi__hh_fams__b11003__other_family\n",
      "mi__hh_fams__b11003__total\n",
      "mi__hh_fams__b11003__under_6_years_and_6_to_17_years\n",
      "mi__hh_fams__b11003__under_6_years_only\n",
      "mi__hh_fams__b11003__with_own_children_of_the_householder_under_18_years\n",
      "---\n"
     ]
    }
   ],
   "source": [
    "factor = 8\n",
    "print(f'Factor {factor}')\n",
    "[print(feature) for feature, _ in ce_map.query('component==@factor').sort_index().iterrows()]\n",
    "print('---')"
   ]
  },
  {
   "cell_type": "code",
   "execution_count": 16,
   "metadata": {},
   "outputs": [
    {
     "name": "stdout",
     "output_type": "stream",
     "text": [
      "Factor 9\n",
      "mi__marital_status__b12001__divorced\n",
      "mi__marital_status__b12001__female\n",
      "mi__marital_status__b12001__male\n",
      "mi__marital_status__b12001__married_spouse_absent\n",
      "mi__marital_status__b12001__married_spouse_present\n",
      "mi__marital_status__b12001__never_married\n",
      "mi__marital_status__b12001__now_married\n",
      "mi__marital_status__b12001__other\n",
      "mi__marital_status__b12001__separated\n",
      "mi__marital_status__b12001__total\n",
      "mi__marital_status__b12001__widowed\n",
      "---\n"
     ]
    }
   ],
   "source": [
    "factor = 9\n",
    "print(f'Factor {factor}')\n",
    "[print(feature) for feature, _ in ce_map.query('component==@factor').sort_index().iterrows()]\n",
    "print('---')"
   ]
  },
  {
   "cell_type": "code",
   "execution_count": 17,
   "metadata": {},
   "outputs": [
    {
     "name": "stdout",
     "output_type": "stream",
     "text": [
      "Factor 10\n",
      "disability__b18101__18_to_34_years\n",
      "disability__b18102__18_to_34_years\n",
      "emp_status__b23018__aggregate_usual_hours\n",
      "emp_status__b23018__female\n",
      "fertility__b13002__15_to_19_years_old\n",
      "fertility__b13002__20_to_34_years_old\n",
      "fertility__b13002__35_to_50_years_old\n",
      "fertility__b13002__total\n",
      "fertility__b13002__unmarried_(never_married_widowed_and_divorced)\n",
      "fertility__b13002__women_who_did_not_have_a_birth_in_the_past_12_months\n",
      "fertility__b13004__not_an_unmarried_partner\n",
      "fertility__b13004__total\n",
      "fertility__b13004__unmarried_(never_married_widowed_and_divorced)\n",
      "fertility__b13004__women_who_did_not_have_a_birth_in_the_past_12_months\n",
      "fertility__b13008__native\n",
      "fertility__b13008__total\n",
      "fertility__b13008__unmarried_(never_married_widowed_and_divorced)\n",
      "fertility__b13008__women_who_did_not_have_a_birth_in_the_past_12_months\n",
      "fertility__b13010__200_percent_or_more_of_poverty_level_in_the_past_12_months\n",
      "fertility__b13010__total\n",
      "fertility__b13010__unmarried_(never_married_widowed_and_divorced)\n",
      "fertility__b13010__women_who_did_not_have_a_birth_in_the_past_12_months\n",
      "fertility__b13012__in_labor_force\n",
      "fertility__b13012__not_in_labor_force\n",
      "fertility__b13012__total\n",
      "fertility__b13012__unmarried_(never_married_widowed_and_divorced)\n",
      "fertility__b13012__women_who_did_not_have_a_birth_in_the_past_12_months\n",
      "fertility__b13016__20_to_24_years_old\n",
      "fertility__b13016__25_to_29_years_old\n",
      "fertility__b13016__30_to_34_years_old\n",
      "fertility__b13016__35_to_39_years_old\n",
      "fertility__b13016__total\n",
      "fertility__b13016__women_who_did_not_have_a_birth_in_the_past_12_months\n",
      "health_insurance__b27001__19_to_25_years\n",
      "health_insurance__b27001__26_to_34_years\n",
      "health_insurance__c27006__19_to_64_years\n",
      "health_insurance__c27007__19_to_64_years\n",
      "health_insurance__c27008__19_to_64_years\n",
      "health_insurance__c27009__19_to_64_years\n",
      "marital_status__b12001__never_married\n",
      "school_enroll__b14001__enrolled_in_college_undergraduate_years\n",
      "school_enroll__b14002__enrolled_in_college_undergraduate_years\n",
      "vet_status__b21001__18_to_34_years\n",
      "---\n"
     ]
    }
   ],
   "source": [
    "factor = 10\n",
    "print(f'Factor {factor}')\n",
    "[print(feature) for feature, _ in ce_map.query('component==@factor').sort_index().iterrows()]\n",
    "print('---')"
   ]
  },
  {
   "cell_type": "code",
   "execution_count": 18,
   "metadata": {},
   "outputs": [
    {
     "name": "stdout",
     "output_type": "stream",
     "text": [
      "Factor 11\n",
      "mi__health_insurance__c27008__19_to_64_years\n",
      "mi__health_insurance__c27008__65_years_and_over\n",
      "mi__health_insurance__c27008__female\n",
      "mi__health_insurance__c27008__male\n",
      "mi__health_insurance__c27008__no_tricaremilitary_health_coverage\n",
      "mi__health_insurance__c27008__total\n",
      "mi__health_insurance__c27008__under_19_years\n",
      "mi__health_insurance__c27008__with_tricaremilitary_health_coverage\n",
      "---\n"
     ]
    }
   ],
   "source": [
    "factor = 11\n",
    "print(f'Factor {factor}')\n",
    "[print(feature) for feature, _ in ce_map.query('component==@factor').sort_index().iterrows()]\n",
    "print('---')"
   ]
  },
  {
   "cell_type": "code",
   "execution_count": 19,
   "metadata": {},
   "outputs": [
    {
     "name": "stdout",
     "output_type": "stream",
     "text": [
      "Factor 12\n",
      "age_sex__b01001a__75_to_84_years\n",
      "age_sex__b01002__female\n",
      "age_sex__b01002__total\n",
      "age_sex__b01002a__female\n",
      "age_sex__b01002a__male\n",
      "age_sex__b01002a__total\n",
      "age_sex__b01002h__female\n",
      "age_sex__b01002h__male\n",
      "age_sex__b01002h__total\n",
      "disability__b18101__65_to_74_years\n",
      "disability__b18101__75_years_and_over\n",
      "disability__b18101__no_disability\n",
      "disability__b18101__with_a_disability\n",
      "disability__b18101a__with_a_disability\n",
      "disability__b18102__65_to_74_years\n",
      "disability__b18102__75_years_and_over\n",
      "disability__b18102__no_hearing_difficulty\n",
      "disability__b18102__with_a_hearing_difficulty\n",
      "emp_status__b23010__householder_did_not_work_in_the_past_12_months\n",
      "emp_status__b23010__spouse_did_not_work_in_the_past_12_months\n",
      "emp_status__b23010__spouse_worked_less_than_full-time_year-round_in_the_past_12_months\n",
      "health_insurance__b27001__55_to_64_years\n",
      "health_insurance__b27001__65_to_74_years\n",
      "health_insurance__b27001__75_years_and_over\n",
      "health_insurance__b27001__with_health_insurance_coverage\n",
      "health_insurance__c27006__65_years_and_over\n",
      "health_insurance__c27006__with_medicare_coverage\n",
      "health_insurance__c27007__65_years_and_over\n",
      "health_insurance__c27007__no_medicaidmeans-tested_public_coverage\n",
      "health_insurance__c27007__with_medicaidmeans-tested_public_coverage\n",
      "health_insurance__c27008__65_years_and_over\n",
      "health_insurance__c27008__no_tricaremilitary_health_coverage\n",
      "health_insurance__c27009__65_years_and_over\n",
      "health_insurance__c27009__no_va_health_care\n",
      "hh_fams__b11007__1-person_household\n",
      "hh_fams__b11007__households_with_one_or_more_people_65_years_and_over\n",
      "inc__b19051__no_earnings\n",
      "inc__b19052__no_wage_or_salary_income\n",
      "inc__b19055__with_social_security_income\n",
      "inc__b19059__with_retirement_income\n",
      "marital_status__b12001__widowed\n",
      "marital_status__b12002a__widowed\n",
      "poverty__b17020__60_to_74_years\n",
      "poverty__b17020__75_to_84_years\n",
      "poverty__b17020__85_years_and_over\n",
      "transfer_progs__b22001__at_least_one_person_in_household_60_years_or_over\n",
      "vet_status__b21001__55_to_64_years\n",
      "vet_status__b21001__65_to_74_years\n",
      "vet_status__b21001__75_years_and_over\n",
      "vet_status__b21001__nonveteran\n",
      "---\n"
     ]
    }
   ],
   "source": [
    "factor = 12\n",
    "print(f'Factor {factor}')\n",
    "[print(feature) for feature, _ in ce_map.query('component==@factor').sort_index().iterrows()]\n",
    "print('---')"
   ]
  },
  {
   "cell_type": "code",
   "execution_count": 20,
   "metadata": {},
   "outputs": [
    {
     "name": "stdout",
     "output_type": "stream",
     "text": [
      "Factor 13\n",
      "age_sex__b01001a__10_to_14_years\n",
      "age_sex__b01001a__15_to_17_years\n",
      "age_sex__b01001a__18_and_19_years\n",
      "age_sex__b01001a__20_to_24_years\n",
      "age_sex__b01001a__25_to_29_years\n",
      "age_sex__b01001a__30_to_34_years\n",
      "age_sex__b01001a__35_to_44_years\n",
      "age_sex__b01001a__45_to_54_years\n",
      "age_sex__b01001a__55_to_64_years\n",
      "age_sex__b01001a__5_to_9_years\n",
      "age_sex__b01001a__65_to_74_years\n",
      "age_sex__b01001a__female\n",
      "age_sex__b01001a__male\n",
      "age_sex__b01001a__total\n",
      "age_sex__b01001a__under_5_years\n",
      "disability__b18101a__18_to_64_years\n",
      "disability__b18101a__65_years_and_over\n",
      "disability__b18101a__no_disability\n",
      "disability__b18101a__total\n",
      "disability__b18101a__under_18_years\n",
      "disability__b18101h__18_to_64_years\n",
      "disability__b18101h__65_years_and_over\n",
      "disability__b18101h__no_disability\n",
      "disability__b18101h__total\n",
      "disability__b18101h__under_18_years\n",
      "disability__b18101h__with_a_disability\n",
      "edu_attain__c15002a__female\n",
      "edu_attain__c15002a__high_school_graduate_(includes_equivalency)\n",
      "edu_attain__c15002a__male\n",
      "edu_attain__c15002a__some_college_or_associate's_degree\n",
      "edu_attain__c15002a__total\n",
      "edu_attain__c15002h__female\n",
      "edu_attain__c15002h__high_school_graduate_(includes_equivalency)\n",
      "edu_attain__c15002h__less_than_high_school_diploma\n",
      "edu_attain__c15002h__male\n",
      "edu_attain__c15002h__some_college_or_associate's_degree\n",
      "edu_attain__c15002h__total\n",
      "edu_attain__c15010__education\n",
      "emp_status__b23010__householder_worked_less_than_full-time_year-round_in_the_past_12_months\n",
      "fertility__b13002a__now_married_(including_separated_and_spouse_absent)\n",
      "fertility__b13002a__total\n",
      "fertility__b13002a__unmarried_(never_married_widowed_and_divorced)\n",
      "fertility__b13002a__women_who_did_not_have_a_birth_in_the_past_12_months\n",
      "fertility__b13002a__women_who_had_a_birth_in_the_past_12_months\n",
      "fertility__b13008__foreign_born\n",
      "hh_fams__b11002a__in_family_households\n",
      "hh_fams__b11002a__in_male_householder_no_wife_present_family\n",
      "hh_fams__b11002a__in_married-couple_family\n",
      "hh_fams__b11002a__total\n",
      "hh_fams__b11003__no_own_children_of_the_householder_under_18_years\n",
      "hh_fams__b11004__no_related_children_of_the_householder_under_18_years\n",
      "housing__b25003a__owner_occupied\n",
      "housing__b25003a__total\n",
      "housing__b25003h__owner_occupied\n",
      "housing__b25003h__total\n",
      "housing__b25071__median_gross_rent_as_a_percentage_of_household_income\n",
      "inc__b19060__with_other_types_of_income\n",
      "marital_status__b12001__married_spouse_absent\n",
      "marital_status__b12001__other\n",
      "marital_status__b12002a__divorced\n",
      "marital_status__b12002a__female\n",
      "marital_status__b12002a__male\n",
      "marital_status__b12002a__never_married\n",
      "marital_status__b12002a__now_married_(except_separated)\n",
      "marital_status__b12002a__total\n",
      "native_birthplace__b06001__35_to_44_years\n",
      "native_birthplace__b06001__45_to_54_years\n",
      "native_birthplace__b06001__55_to_59_years\n",
      "native_birthplace__b06001__60_and_61_years\n",
      "native_birthplace__b06001__62_to_64_years\n",
      "native_birthplace__b06001__65_to_74_years\n",
      "native_birthplace__b06001__75_years_and_over\n",
      "native_birthplace__b06001__born_in_other_state_in_the_united_states\n",
      "native_birthplace__b06001__foreign_born\n",
      "poverty__b17019__female_householder_no_husband_present\n",
      "poverty__b17019__other_families\n",
      "poverty__b17025__born_in_the_united_states\n",
      "poverty__b17025__foreign_born\n",
      "poverty__b17025__native\n",
      "poverty__b17025__naturalized_citizen\n",
      "poverty__b17025__not_a_citizen\n",
      "race__b02008__total\n",
      "race__b02009__total\n",
      "race__b02013__total\n",
      "unweighted_ct__b00002__total\n",
      "vet_status__b21003__veteran\n",
      "---\n"
     ]
    }
   ],
   "source": [
    "factor = 13\n",
    "print(f'Factor {factor}')\n",
    "[print(feature) for feature, _ in ce_map.query('component==@factor').sort_index().iterrows()]\n",
    "print('---')"
   ]
  },
  {
   "cell_type": "markdown",
   "metadata": {},
   "source": [
    "### Make test and train datasets"
   ]
  },
  {
   "cell_type": "code",
   "execution_count": 21,
   "metadata": {},
   "outputs": [],
   "source": [
    "X = pd.DataFrame(ce_model.transform(df), index=df.index)"
   ]
  },
  {
   "cell_type": "markdown",
   "metadata": {},
   "source": [
    "### Select optimal number of clusters and train best model"
   ]
  },
  {
   "cell_type": "code",
   "execution_count": 22,
   "metadata": {},
   "outputs": [],
   "source": [
    "outputs = train_gaussian_mixture_models(X, list(range(2, MAX_COMPONENTS)), RANDOM_STATE)"
   ]
  },
  {
   "cell_type": "code",
   "execution_count": 23,
   "metadata": {},
   "outputs": [
    {
     "data": {
      "text/plain": [
       "<AxesSubplot:title={'center':'Gaussian Mixture Model Scores'}>"
      ]
     },
     "execution_count": 23,
     "metadata": {},
     "output_type": "execute_result"
    },
    {
     "data": {
      "image/png": "[encoded data removed]",
      "text/plain": [
       "<Figure size 1152x576 with 1 Axes>"
      ]
     },
     "metadata": {},
     "output_type": "display_data"
    }
   ],
   "source": [
    "title = 'Gaussian Mixture Model Scores'\n",
    "figsize = (8, 4)\n",
    "pd.DataFrame.from_dict(outputs, orient='index').bic.plot(title=title, figsize=(16, 8), xlim=(5, 20))"
   ]
  },
  {
   "cell_type": "code",
   "execution_count": 26,
   "metadata": {},
   "outputs": [
    {
     "name": "stdout",
     "output_type": "stream",
     "text": [
      "Elbow occurs at 18 components\n"
     ]
    },
    {
     "data": {
      "text/html": [
       "<div>\n",
       "<style scoped>\n",
       "    .dataframe tbody tr th:only-of-type {\n",
       "        vertical-align: middle;\n",
       "    }\n",
       "\n",
       "    .dataframe tbody tr th {\n",
       "        vertical-align: top;\n",
       "    }\n",
       "\n",
       "    .dataframe thead th {\n",
       "        text-align: right;\n",
       "    }\n",
       "</style>\n",
       "<table border=\"1\" class=\"dataframe\">\n",
       "  <thead>\n",
       "    <tr style=\"text-align: right;\">\n",
       "      <th></th>\n",
       "      <th>bic</th>\n",
       "      <th>bic_pct_change</th>\n",
       "      <th>bic_pct_change2</th>\n",
       "      <th>criteria_1</th>\n",
       "      <th>criteria_2</th>\n",
       "      <th>criteria_3</th>\n",
       "      <th>criteria_4</th>\n",
       "      <th>criteria_5</th>\n",
       "      <th>score</th>\n",
       "    </tr>\n",
       "  </thead>\n",
       "  <tbody>\n",
       "    <tr>\n",
       "      <th>2</th>\n",
       "      <td>6.076200e+05</td>\n",
       "      <td>NaN</td>\n",
       "      <td>NaN</td>\n",
       "      <td>False</td>\n",
       "      <td>False</td>\n",
       "      <td>False</td>\n",
       "      <td>False</td>\n",
       "      <td>True</td>\n",
       "      <td>1</td>\n",
       "    </tr>\n",
       "    <tr>\n",
       "      <th>3</th>\n",
       "      <td>-1.776019e+05</td>\n",
       "      <td>-1.292291</td>\n",
       "      <td>NaN</td>\n",
       "      <td>False</td>\n",
       "      <td>False</td>\n",
       "      <td>False</td>\n",
       "      <td>False</td>\n",
       "      <td>False</td>\n",
       "      <td>0</td>\n",
       "    </tr>\n",
       "    <tr>\n",
       "      <th>4</th>\n",
       "      <td>-1.745851e+06</td>\n",
       "      <td>8.830140</td>\n",
       "      <td>-7.832935</td>\n",
       "      <td>True</td>\n",
       "      <td>False</td>\n",
       "      <td>True</td>\n",
       "      <td>True</td>\n",
       "      <td>True</td>\n",
       "      <td>4</td>\n",
       "    </tr>\n",
       "    <tr>\n",
       "      <th>5</th>\n",
       "      <td>-1.589300e+06</td>\n",
       "      <td>-0.089670</td>\n",
       "      <td>-1.010155</td>\n",
       "      <td>True</td>\n",
       "      <td>False</td>\n",
       "      <td>False</td>\n",
       "      <td>True</td>\n",
       "      <td>False</td>\n",
       "      <td>2</td>\n",
       "    </tr>\n",
       "    <tr>\n",
       "      <th>6</th>\n",
       "      <td>-3.110498e+06</td>\n",
       "      <td>0.957150</td>\n",
       "      <td>-11.674102</td>\n",
       "      <td>True</td>\n",
       "      <td>False</td>\n",
       "      <td>True</td>\n",
       "      <td>True</td>\n",
       "      <td>True</td>\n",
       "      <td>4</td>\n",
       "    </tr>\n",
       "    <tr>\n",
       "      <th>7</th>\n",
       "      <td>-2.318042e+06</td>\n",
       "      <td>-0.254768</td>\n",
       "      <td>-1.266174</td>\n",
       "      <td>True</td>\n",
       "      <td>False</td>\n",
       "      <td>False</td>\n",
       "      <td>True</td>\n",
       "      <td>True</td>\n",
       "      <td>3</td>\n",
       "    </tr>\n",
       "    <tr>\n",
       "      <th>8</th>\n",
       "      <td>-2.272127e+06</td>\n",
       "      <td>-0.019808</td>\n",
       "      <td>-0.922251</td>\n",
       "      <td>True</td>\n",
       "      <td>False</td>\n",
       "      <td>False</td>\n",
       "      <td>True</td>\n",
       "      <td>False</td>\n",
       "      <td>2</td>\n",
       "    </tr>\n",
       "    <tr>\n",
       "      <th>9</th>\n",
       "      <td>-2.330211e+06</td>\n",
       "      <td>0.025564</td>\n",
       "      <td>-2.290578</td>\n",
       "      <td>True</td>\n",
       "      <td>False</td>\n",
       "      <td>False</td>\n",
       "      <td>True</td>\n",
       "      <td>False</td>\n",
       "      <td>2</td>\n",
       "    </tr>\n",
       "    <tr>\n",
       "      <th>10</th>\n",
       "      <td>-3.081695e+06</td>\n",
       "      <td>0.322496</td>\n",
       "      <td>11.615420</td>\n",
       "      <td>False</td>\n",
       "      <td>False</td>\n",
       "      <td>True</td>\n",
       "      <td>True</td>\n",
       "      <td>False</td>\n",
       "      <td>2</td>\n",
       "    </tr>\n",
       "    <tr>\n",
       "      <th>11</th>\n",
       "      <td>-3.530912e+06</td>\n",
       "      <td>0.145769</td>\n",
       "      <td>-0.547997</td>\n",
       "      <td>True</td>\n",
       "      <td>True</td>\n",
       "      <td>True</td>\n",
       "      <td>True</td>\n",
       "      <td>False</td>\n",
       "      <td>4</td>\n",
       "    </tr>\n",
       "    <tr>\n",
       "      <th>12</th>\n",
       "      <td>-3.824646e+06</td>\n",
       "      <td>0.083189</td>\n",
       "      <td>-0.429310</td>\n",
       "      <td>True</td>\n",
       "      <td>False</td>\n",
       "      <td>True</td>\n",
       "      <td>True</td>\n",
       "      <td>True</td>\n",
       "      <td>4</td>\n",
       "    </tr>\n",
       "    <tr>\n",
       "      <th>13</th>\n",
       "      <td>-3.346052e+06</td>\n",
       "      <td>-0.125134</td>\n",
       "      <td>-2.504212</td>\n",
       "      <td>True</td>\n",
       "      <td>False</td>\n",
       "      <td>False</td>\n",
       "      <td>True</td>\n",
       "      <td>False</td>\n",
       "      <td>2</td>\n",
       "    </tr>\n",
       "    <tr>\n",
       "      <th>14</th>\n",
       "      <td>-3.707479e+06</td>\n",
       "      <td>0.108016</td>\n",
       "      <td>-1.863202</td>\n",
       "      <td>True</td>\n",
       "      <td>False</td>\n",
       "      <td>True</td>\n",
       "      <td>True</td>\n",
       "      <td>False</td>\n",
       "      <td>3</td>\n",
       "    </tr>\n",
       "    <tr>\n",
       "      <th>15</th>\n",
       "      <td>-3.873673e+06</td>\n",
       "      <td>0.044826</td>\n",
       "      <td>-0.585001</td>\n",
       "      <td>True</td>\n",
       "      <td>False</td>\n",
       "      <td>True</td>\n",
       "      <td>True</td>\n",
       "      <td>True</td>\n",
       "      <td>4</td>\n",
       "    </tr>\n",
       "    <tr>\n",
       "      <th>16</th>\n",
       "      <td>-3.748783e+06</td>\n",
       "      <td>-0.032241</td>\n",
       "      <td>-1.719232</td>\n",
       "      <td>True</td>\n",
       "      <td>False</td>\n",
       "      <td>False</td>\n",
       "      <td>True</td>\n",
       "      <td>False</td>\n",
       "      <td>2</td>\n",
       "    </tr>\n",
       "    <tr>\n",
       "      <th>17</th>\n",
       "      <td>-3.966703e+06</td>\n",
       "      <td>0.058131</td>\n",
       "      <td>-2.803026</td>\n",
       "      <td>True</td>\n",
       "      <td>False</td>\n",
       "      <td>True</td>\n",
       "      <td>True</td>\n",
       "      <td>False</td>\n",
       "      <td>3</td>\n",
       "    </tr>\n",
       "    <tr>\n",
       "      <th>18</th>\n",
       "      <td>-4.004138e+06</td>\n",
       "      <td>0.009437</td>\n",
       "      <td>-0.837652</td>\n",
       "      <td>True</td>\n",
       "      <td>False</td>\n",
       "      <td>True</td>\n",
       "      <td>True</td>\n",
       "      <td>True</td>\n",
       "      <td>4</td>\n",
       "    </tr>\n",
       "    <tr>\n",
       "      <th>19</th>\n",
       "      <td>-3.907196e+06</td>\n",
       "      <td>-0.024210</td>\n",
       "      <td>-3.565363</td>\n",
       "      <td>True</td>\n",
       "      <td>False</td>\n",
       "      <td>False</td>\n",
       "      <td>True</td>\n",
       "      <td>False</td>\n",
       "      <td>2</td>\n",
       "    </tr>\n",
       "    <tr>\n",
       "      <th>20</th>\n",
       "      <td>-4.469552e+06</td>\n",
       "      <td>0.143928</td>\n",
       "      <td>-6.944901</td>\n",
       "      <td>True</td>\n",
       "      <td>False</td>\n",
       "      <td>False</td>\n",
       "      <td>True</td>\n",
       "      <td>False</td>\n",
       "      <td>2</td>\n",
       "    </tr>\n",
       "  </tbody>\n",
       "</table>\n",
       "</div>"
      ],
      "text/plain": [
       "             bic  bic_pct_change  bic_pct_change2  criteria_1  criteria_2  \\\n",
       "2   6.076200e+05             NaN              NaN       False       False   \n",
       "3  -1.776019e+05       -1.292291              NaN       False       False   \n",
       "4  -1.745851e+06        8.830140        -7.832935        True       False   \n",
       "5  -1.589300e+06       -0.089670        -1.010155        True       False   \n",
       "6  -3.110498e+06        0.957150       -11.674102        True       False   \n",
       "7  -2.318042e+06       -0.254768        -1.266174        True       False   \n",
       "8  -2.272127e+06       -0.019808        -0.922251        True       False   \n",
       "9  -2.330211e+06        0.025564        -2.290578        True       False   \n",
       "10 -3.081695e+06        0.322496        11.615420       False       False   \n",
       "11 -3.530912e+06        0.145769        -0.547997        True        True   \n",
       "12 -3.824646e+06        0.083189        -0.429310        True       False   \n",
       "13 -3.346052e+06       -0.125134        -2.504212        True       False   \n",
       "14 -3.707479e+06        0.108016        -1.863202        True       False   \n",
       "15 -3.873673e+06        0.044826        -0.585001        True       False   \n",
       "16 -3.748783e+06       -0.032241        -1.719232        True       False   \n",
       "17 -3.966703e+06        0.058131        -2.803026        True       False   \n",
       "18 -4.004138e+06        0.009437        -0.837652        True       False   \n",
       "19 -3.907196e+06       -0.024210        -3.565363        True       False   \n",
       "20 -4.469552e+06        0.143928        -6.944901        True       False   \n",
       "\n",
       "    criteria_3  criteria_4  criteria_5  score  \n",
       "2        False       False        True      1  \n",
       "3        False       False       False      0  \n",
       "4         True        True        True      4  \n",
       "5        False        True       False      2  \n",
       "6         True        True        True      4  \n",
       "7        False        True        True      3  \n",
       "8        False        True       False      2  \n",
       "9        False        True       False      2  \n",
       "10        True        True       False      2  \n",
       "11        True        True       False      4  \n",
       "12        True        True        True      4  \n",
       "13       False        True       False      2  \n",
       "14        True        True       False      3  \n",
       "15        True        True        True      4  \n",
       "16       False        True       False      2  \n",
       "17        True        True       False      3  \n",
       "18        True        True        True      4  \n",
       "19       False        True       False      2  \n",
       "20       False        True       False      2  "
      ]
     },
     "execution_count": 26,
     "metadata": {},
     "output_type": "execute_result"
    }
   ],
   "source": [
    "bic = pd.DataFrame.from_dict(outputs, orient='index').bic\n",
    "elbow_di = find_elbow(bic)\n",
    "elbow = elbow_di['elbow']\n",
    "print(f'Elbow occurs at {elbow} components')\n",
    "elbow_di['scores']"
   ]
  },
  {
   "cell_type": "markdown",
   "metadata": {},
   "source": [
    "### Select model and assemble outputs"
   ]
  },
  {
   "cell_type": "code",
   "execution_count": 27,
   "metadata": {},
   "outputs": [],
   "source": [
    "selected_gm_model = outputs[elbow]['model']\n",
    "with open(str(ce_dst), 'wb') as f:\n",
    "    pickle.dump(ce_model, f)\n",
    "with open(str(gm_dst), 'wb') as f:\n",
    "    pickle.dump(selected_gm_model, f)\n"
   ]
  },
  {
   "cell_type": "markdown",
   "metadata": {},
   "source": [
    "### Cluster tracts"
   ]
  },
  {
   "cell_type": "code",
   "execution_count": 28,
   "metadata": {},
   "outputs": [],
   "source": [
    "label_data(df, selected_gm_model).to_pickle(labeled_dst)\n",
    "label_data(df_orig, selected_gm_model).to_pickle(labeled_orig_dst)"
   ]
  }
 ],
 "metadata": {
  "kernelspec": {
   "display_name": "geoclusterizer",
   "language": "python",
   "name": "geoclusterizer"
  },
  "language_info": {
   "codemirror_mode": {
    "name": "ipython",
    "version": 3
   },
   "file_extension": ".py",
   "mimetype": "text/x-python",
   "name": "python",
   "nbconvert_exporter": "python",
   "pygments_lexer": "ipython3",
   "version": "3.8.3"
  }
 },
 "nbformat": 4,
 "nbformat_minor": 4
}
