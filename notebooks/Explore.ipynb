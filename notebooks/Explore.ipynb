{
 "cells": [
  {
   "cell_type": "markdown",
   "metadata": {},
   "source": [
    "### Notebook boilerplate"
   ]
  },
  {
   "cell_type": "code",
   "execution_count": 15,
   "metadata": {},
   "outputs": [],
   "source": [
    "from importlib import reload\n",
    "from pathlib import Path\n",
    "import pandas as pd\n",
    "notebooks_dir = Path('.').resolve()\n",
    "root_dir = notebooks_dir.parents[0]\n",
    "import sys\n",
    "sys.path.append(str(root_dir))\n",
    "from settings import ACS_YEAR, ACS_SPAN, RAW_ACS_DATA_DIR\n",
    "import settings\n",
    "def fix_path(path):\n",
    "    \"\"\"Hacky fix to make paths behave when importing from upstream module\"\"\"\n",
    "    return Path(str(path).replace('notebooks/', ''))\n",
    "RAW_ACS_DATA_DIR = fix_path(RAW_ACS_DATA_DIR)"
   ]
  },
  {
   "cell_type": "code",
   "execution_count": 2,
   "metadata": {},
   "outputs": [],
   "source": [
    "lookups_src = root_dir / 'acs_5yr_seq_table_number_lookup.csv'\n",
    "lookups = pd.read_csv(lookups_src, comment='#')\n",
    "lookups.columns = [x.lower().replace(' ', '_') for x in lookups]\n",
    "lookups = lookups.query('((get==\"1\") | (get==1)) & (subject_area.notnull())')\n",
    "c = ['table_title', 'subject_area']\n",
    "lookups = lookups[c]"
   ]
  },
  {
   "cell_type": "code",
   "execution_count": 19,
   "metadata": {},
   "outputs": [],
   "source": [
    "import bs4\n",
    "import csv\n",
    "import io\n",
    "import os\n",
    "import requests\n",
    "import sys\n",
    "import urllib.request\n",
    "import zipfile\n",
    "\n",
    "\n",
    "\n",
    "\n",
    "class ACS:\n",
    "    def __init__(self, acs_year, acs_span, data_dir, overwrite=False):\n",
    "        self.acs_year = acs_year\n",
    "        self.acs_span = acs_span\n",
    "        self.data_dir = Path(data_dir)\n",
    "        self.lookup_url = f'https://www2.census.gov/programs-surveys/acs/summary_file/{acs_year}/documentation/user_tools/ACS_{acs_span}yr_Seq_Table_Number_Lookup.txt'\n",
    "        self.data_url = f'https://www2.census.gov/programs-surveys/acs/summary_file/{acs_year}/data/{acs_span}_year_by_state'\n",
    "        self.lookup_path = self.data_dir / f'{acs_year}_{acs_span}y_lookup.txt'\n",
    "        self.overwrite = overwrite\n",
    "        self.data_zips = []\n",
    "    \n",
    "    @staticmethod\n",
    "    def download(src, dst, verbose=True):\n",
    "        if verbose:\n",
    "            print('downloading %s -> %s...' % (src, dst), file=sys.stderr)\n",
    "        urllib.request.urlretrieve(src, dst)\n",
    "        return True\n",
    "    \n",
    "    def get_acs_metadata(self):\n",
    "        if not self.lookup_path.exists() and self.overwrite == False:\n",
    "            self.download(self.lookup_url, self.lookup_path)\n",
    "        return True\n",
    "    \n",
    "    def get_acs_data(self):\n",
    "        # Go to the \"data by state\" page and scan the HTML page for links to zip files\n",
    "        soup = bs4.BeautifulSoup(requests.get(self.data_url).content)\n",
    "        for link in soup.find_all('a'):\n",
    "            if link.get('href') and link.get('href').endswith('zip'):\n",
    "                fn = link.get('href').split('/')[-1]\n",
    "                dst = self.data_dir / fn\n",
    "                if not dst.exists() and self.overwrite == False:\n",
    "                    self.download(self.data_url + '/' + fn, dst)\n",
    "#                 self.data_zips.append(zipfile.ZipFile(os.path.join(self.data_dir, fn), 'r'))\n",
    "        return True\n",
    "\n",
    "    def find_table(self, table_title, subject_area):\n",
    "        with open(self.lookup_fn, 'r', encoding='iso-8859-1') as csvfile:\n",
    "            reader = csv.DictReader(csvfile, dialect='unix')\n",
    "            seq_number, start_pos, cells = None, None, []\n",
    "            current_table_title = None\n",
    "            for row in reader:\n",
    "                if row['Table Title'] and row['Total Cells in Table']:\n",
    "                    current_table_title = row['Table Title']\n",
    "                if current_table_title == table_title and row['Start Position']:\n",
    "                    seq_number = int(row['Sequence Number'])\n",
    "                    start_pos = int(row['Start Position'])\n",
    "                if current_table_title == table_title and row['Line Number']:\n",
    "                    try:\n",
    "                        int(row['Line Number'])\n",
    "                        cells.append(row['Table Title'])\n",
    "                    except:\n",
    "                        pass\n",
    "\n",
    "        return seq_number, start_pos, cells\n",
    "\n",
    "    def get_data_zips(self):\n",
    "        self.data_zips = [zipfile.ZipFile(x, 'r') for x in self.data_dir.iterdir()]\n",
    "        return True\n",
    "\n",
    "    def get_geos(self):\n",
    "        geos = {}\n",
    "        for data_zip in self.data_zips:\n",
    "            for info in data_zip.infolist():\n",
    "                if info.filename.startswith('g') and info.filename.endswith('.csv'):\n",
    "                    with data_zip.open(info.filename) as csvfile:\n",
    "                        print('Parsing geography data for', info.filename, file=sys.stderr)\n",
    "                        data = csvfile.read()\n",
    "                        buf = io.StringIO(data.decode('iso-8859-1'))\n",
    "                        reader = csv.reader(buf, dialect='unix')\n",
    "                        for row in reader:\n",
    "                            geos[(row[1], row[4])] = row[-4]\n",
    "        return geos\n",
    "\n",
    "    def get_table(self, table_title, subject_area):\n",
    "        seq_number, start_pos, cells = self.find_table(table_title, subject_area)\n",
    "\n",
    "        ret = {}\n",
    "        for data_zip in self.data_zips:\n",
    "            for info in data_zip.infolist():\n",
    "                if info.filename.startswith('e') and info.filename.endswith('%04d000.txt' % seq_number):\n",
    "                    with data_zip.open(info.filename) as csvfile:\n",
    "                        print('Parsing data for', info.filename, file=sys.stderr)\n",
    "                        data = csvfile.read()\n",
    "                        buf = io.StringIO(data.decode('iso-8859-1'))\n",
    "                        reader = csv.reader(buf, dialect='unix')\n",
    "                        col_i, col_j = start_pos-1, start_pos+len(cells)-1\n",
    "                        for row in reader:\n",
    "                            state = row[2].upper()\n",
    "                            logical_record_number = row[5]\n",
    "                            values = [int(value) if (value and value != '.' and int(value) > 0) else None for value in row[col_i:col_j]]\n",
    "                            ret[(state, logical_record_number)] = {k: v for k, v in zip(cells, values) if v is not None}\n",
    "        return ret\n",
    "\n",
    "\n",
    "class OneYearACS(ACS):\n",
    "    def __init__(self):\n",
    "        super(OneYearACS, self).__init__(\n",
    "            'https://www2.census.gov/programs-surveys/acs/summary_file/2016/documentation/user_tools/ACS_1yr_Seq_Table_Number_Lookup.txt',\n",
    "            'acs_lookup.txt',\n",
    "            'https://www2.census.gov/programs-surveys/acs/summary_file/2016/data/1_year_by_state',\n",
    "            '1_year_data')\n",
    "\n",
    "\n",
    "class FiveYearACS(ACS):\n",
    "    def __init__(self):\n",
    "        super(FiveYearACS, self).__init__(\n",
    "            'https://www2.census.gov/programs-surveys/acs/summary_file/2016/documentation/user_tools/ACS_5yr_Seq_Table_Number_Lookup.txt',\n",
    "            '5y_lookup.txt',\n",
    "            'https://www2.census.gov/programs-surveys/acs/summary_file/2016/data/5_year_by_state',\n",
    "            '5_year_data')"
   ]
  },
  {
   "cell_type": "code",
   "execution_count": 7,
   "metadata": {},
   "outputs": [
    {
     "data": {
      "text/plain": [
       "PosixPath('/home/pgr-me/gh/geoclusterizer/notebooks')"
      ]
     },
     "execution_count": 7,
     "metadata": {},
     "output_type": "execute_result"
    }
   ],
   "source": [
    "reload(settings)\n",
    "\n",
    "\n",
    "settings.ROOT_DIR"
   ]
  },
  {
   "cell_type": "code",
   "execution_count": 12,
   "metadata": {},
   "outputs": [
    {
     "data": {
      "text/plain": [
       "<module 'settings' from '/home/pgr-me/gh/geoclusterizer/settings.py'>"
      ]
     },
     "execution_count": 12,
     "metadata": {},
     "output_type": "execute_result"
    }
   ],
   "source": [
    "reload(settings)"
   ]
  },
  {
   "cell_type": "code",
   "execution_count": 113,
   "metadata": {},
   "outputs": [
    {
     "data": {
      "text/plain": [
       "PosixPath('/home/pgr-me/gh/geoclusterizer/notebooks')"
      ]
     },
     "execution_count": 113,
     "metadata": {},
     "output_type": "execute_result"
    }
   ],
   "source": [
    "Path.cwd()"
   ]
  },
  {
   "cell_type": "code",
   "execution_count": 20,
   "metadata": {
    "collapsed": true,
    "jupyter": {
     "outputs_hidden": true
    }
   },
   "outputs": [
    {
     "name": "stderr",
     "output_type": "stream",
     "text": [
      "downloading https://www2.census.gov/programs-surveys/acs/summary_file/2018/data/5_year_by_state/Alabama_All_Geographies_Not_Tracts_Block_Groups.zip -> /home/pgr-me/gh/geoclusterizer/data/raw/2018_5_year_data/Alabama_All_Geographies_Not_Tracts_Block_Groups.zip...\n",
      "downloading https://www2.census.gov/programs-surveys/acs/summary_file/2018/data/5_year_by_state/Alabama_Tracts_Block_Groups_Only.zip -> /home/pgr-me/gh/geoclusterizer/data/raw/2018_5_year_data/Alabama_Tracts_Block_Groups_Only.zip...\n",
      "downloading https://www2.census.gov/programs-surveys/acs/summary_file/2018/data/5_year_by_state/Alaska_All_Geographies_Not_Tracts_Block_Groups.zip -> /home/pgr-me/gh/geoclusterizer/data/raw/2018_5_year_data/Alaska_All_Geographies_Not_Tracts_Block_Groups.zip...\n",
      "downloading https://www2.census.gov/programs-surveys/acs/summary_file/2018/data/5_year_by_state/Alaska_Tracts_Block_Groups_Only.zip -> /home/pgr-me/gh/geoclusterizer/data/raw/2018_5_year_data/Alaska_Tracts_Block_Groups_Only.zip...\n",
      "downloading https://www2.census.gov/programs-surveys/acs/summary_file/2018/data/5_year_by_state/Arizona_All_Geographies_Not_Tracts_Block_Groups.zip -> /home/pgr-me/gh/geoclusterizer/data/raw/2018_5_year_data/Arizona_All_Geographies_Not_Tracts_Block_Groups.zip...\n",
      "downloading https://www2.census.gov/programs-surveys/acs/summary_file/2018/data/5_year_by_state/Arizona_Tracts_Block_Groups_Only.zip -> /home/pgr-me/gh/geoclusterizer/data/raw/2018_5_year_data/Arizona_Tracts_Block_Groups_Only.zip...\n",
      "downloading https://www2.census.gov/programs-surveys/acs/summary_file/2018/data/5_year_by_state/Arkansas_All_Geographies_Not_Tracts_Block_Groups.zip -> /home/pgr-me/gh/geoclusterizer/data/raw/2018_5_year_data/Arkansas_All_Geographies_Not_Tracts_Block_Groups.zip...\n",
      "downloading https://www2.census.gov/programs-surveys/acs/summary_file/2018/data/5_year_by_state/Arkansas_Tracts_Block_Groups_Only.zip -> /home/pgr-me/gh/geoclusterizer/data/raw/2018_5_year_data/Arkansas_Tracts_Block_Groups_Only.zip...\n",
      "downloading https://www2.census.gov/programs-surveys/acs/summary_file/2018/data/5_year_by_state/California_All_Geographies_Not_Tracts_Block_Groups.zip -> /home/pgr-me/gh/geoclusterizer/data/raw/2018_5_year_data/California_All_Geographies_Not_Tracts_Block_Groups.zip...\n",
      "downloading https://www2.census.gov/programs-surveys/acs/summary_file/2018/data/5_year_by_state/California_Tracts_Block_Groups_Only.zip -> /home/pgr-me/gh/geoclusterizer/data/raw/2018_5_year_data/California_Tracts_Block_Groups_Only.zip...\n",
      "downloading https://www2.census.gov/programs-surveys/acs/summary_file/2018/data/5_year_by_state/Colorado_All_Geographies_Not_Tracts_Block_Groups.zip -> /home/pgr-me/gh/geoclusterizer/data/raw/2018_5_year_data/Colorado_All_Geographies_Not_Tracts_Block_Groups.zip...\n",
      "downloading https://www2.census.gov/programs-surveys/acs/summary_file/2018/data/5_year_by_state/Colorado_Tracts_Block_Groups_Only.zip -> /home/pgr-me/gh/geoclusterizer/data/raw/2018_5_year_data/Colorado_Tracts_Block_Groups_Only.zip...\n",
      "downloading https://www2.census.gov/programs-surveys/acs/summary_file/2018/data/5_year_by_state/Connecticut_All_Geographies_Not_Tracts_Block_Groups.zip -> /home/pgr-me/gh/geoclusterizer/data/raw/2018_5_year_data/Connecticut_All_Geographies_Not_Tracts_Block_Groups.zip...\n",
      "downloading https://www2.census.gov/programs-surveys/acs/summary_file/2018/data/5_year_by_state/Connecticut_Tracts_Block_Groups_Only.zip -> /home/pgr-me/gh/geoclusterizer/data/raw/2018_5_year_data/Connecticut_Tracts_Block_Groups_Only.zip...\n",
      "downloading https://www2.census.gov/programs-surveys/acs/summary_file/2018/data/5_year_by_state/Delaware_All_Geographies_Not_Tracts_Block_Groups.zip -> /home/pgr-me/gh/geoclusterizer/data/raw/2018_5_year_data/Delaware_All_Geographies_Not_Tracts_Block_Groups.zip...\n",
      "downloading https://www2.census.gov/programs-surveys/acs/summary_file/2018/data/5_year_by_state/Delaware_Tracts_Block_Groups_Only.zip -> /home/pgr-me/gh/geoclusterizer/data/raw/2018_5_year_data/Delaware_Tracts_Block_Groups_Only.zip...\n",
      "downloading https://www2.census.gov/programs-surveys/acs/summary_file/2018/data/5_year_by_state/DistrictOfColumbia_All_Geographies_Not_Tracts_Block_Groups.zip -> /home/pgr-me/gh/geoclusterizer/data/raw/2018_5_year_data/DistrictOfColumbia_All_Geographies_Not_Tracts_Block_Groups.zip...\n",
      "downloading https://www2.census.gov/programs-surveys/acs/summary_file/2018/data/5_year_by_state/DistrictOfColumbia_Tracts_Block_Groups_Only.zip -> /home/pgr-me/gh/geoclusterizer/data/raw/2018_5_year_data/DistrictOfColumbia_Tracts_Block_Groups_Only.zip...\n",
      "downloading https://www2.census.gov/programs-surveys/acs/summary_file/2018/data/5_year_by_state/Florida_All_Geographies_Not_Tracts_Block_Groups.zip -> /home/pgr-me/gh/geoclusterizer/data/raw/2018_5_year_data/Florida_All_Geographies_Not_Tracts_Block_Groups.zip...\n",
      "downloading https://www2.census.gov/programs-surveys/acs/summary_file/2018/data/5_year_by_state/Florida_Tracts_Block_Groups_Only.zip -> /home/pgr-me/gh/geoclusterizer/data/raw/2018_5_year_data/Florida_Tracts_Block_Groups_Only.zip...\n",
      "downloading https://www2.census.gov/programs-surveys/acs/summary_file/2018/data/5_year_by_state/Georgia_All_Geographies_Not_Tracts_Block_Groups.zip -> /home/pgr-me/gh/geoclusterizer/data/raw/2018_5_year_data/Georgia_All_Geographies_Not_Tracts_Block_Groups.zip...\n",
      "downloading https://www2.census.gov/programs-surveys/acs/summary_file/2018/data/5_year_by_state/Georgia_Tracts_Block_Groups_Only.zip -> /home/pgr-me/gh/geoclusterizer/data/raw/2018_5_year_data/Georgia_Tracts_Block_Groups_Only.zip...\n",
      "downloading https://www2.census.gov/programs-surveys/acs/summary_file/2018/data/5_year_by_state/Hawaii_All_Geographies_Not_Tracts_Block_Groups.zip -> /home/pgr-me/gh/geoclusterizer/data/raw/2018_5_year_data/Hawaii_All_Geographies_Not_Tracts_Block_Groups.zip...\n",
      "downloading https://www2.census.gov/programs-surveys/acs/summary_file/2018/data/5_year_by_state/Hawaii_Tracts_Block_Groups_Only.zip -> /home/pgr-me/gh/geoclusterizer/data/raw/2018_5_year_data/Hawaii_Tracts_Block_Groups_Only.zip...\n",
      "downloading https://www2.census.gov/programs-surveys/acs/summary_file/2018/data/5_year_by_state/Idaho_All_Geographies_Not_Tracts_Block_Groups.zip -> /home/pgr-me/gh/geoclusterizer/data/raw/2018_5_year_data/Idaho_All_Geographies_Not_Tracts_Block_Groups.zip...\n",
      "downloading https://www2.census.gov/programs-surveys/acs/summary_file/2018/data/5_year_by_state/Idaho_Tracts_Block_Groups_Only.zip -> /home/pgr-me/gh/geoclusterizer/data/raw/2018_5_year_data/Idaho_Tracts_Block_Groups_Only.zip...\n",
      "downloading https://www2.census.gov/programs-surveys/acs/summary_file/2018/data/5_year_by_state/Illinois_All_Geographies_Not_Tracts_Block_Groups.zip -> /home/pgr-me/gh/geoclusterizer/data/raw/2018_5_year_data/Illinois_All_Geographies_Not_Tracts_Block_Groups.zip...\n",
      "downloading https://www2.census.gov/programs-surveys/acs/summary_file/2018/data/5_year_by_state/Illinois_Tracts_Block_Groups_Only.zip -> /home/pgr-me/gh/geoclusterizer/data/raw/2018_5_year_data/Illinois_Tracts_Block_Groups_Only.zip...\n",
      "downloading https://www2.census.gov/programs-surveys/acs/summary_file/2018/data/5_year_by_state/Indiana_All_Geographies_Not_Tracts_Block_Groups.zip -> /home/pgr-me/gh/geoclusterizer/data/raw/2018_5_year_data/Indiana_All_Geographies_Not_Tracts_Block_Groups.zip...\n",
      "downloading https://www2.census.gov/programs-surveys/acs/summary_file/2018/data/5_year_by_state/Indiana_Tracts_Block_Groups_Only.zip -> /home/pgr-me/gh/geoclusterizer/data/raw/2018_5_year_data/Indiana_Tracts_Block_Groups_Only.zip...\n",
      "downloading https://www2.census.gov/programs-surveys/acs/summary_file/2018/data/5_year_by_state/Iowa_All_Geographies_Not_Tracts_Block_Groups.zip -> /home/pgr-me/gh/geoclusterizer/data/raw/2018_5_year_data/Iowa_All_Geographies_Not_Tracts_Block_Groups.zip...\n",
      "downloading https://www2.census.gov/programs-surveys/acs/summary_file/2018/data/5_year_by_state/Iowa_Tracts_Block_Groups_Only.zip -> /home/pgr-me/gh/geoclusterizer/data/raw/2018_5_year_data/Iowa_Tracts_Block_Groups_Only.zip...\n",
      "downloading https://www2.census.gov/programs-surveys/acs/summary_file/2018/data/5_year_by_state/Kansas_All_Geographies_Not_Tracts_Block_Groups.zip -> /home/pgr-me/gh/geoclusterizer/data/raw/2018_5_year_data/Kansas_All_Geographies_Not_Tracts_Block_Groups.zip...\n",
      "downloading https://www2.census.gov/programs-surveys/acs/summary_file/2018/data/5_year_by_state/Kansas_Tracts_Block_Groups_Only.zip -> /home/pgr-me/gh/geoclusterizer/data/raw/2018_5_year_data/Kansas_Tracts_Block_Groups_Only.zip...\n",
      "downloading https://www2.census.gov/programs-surveys/acs/summary_file/2018/data/5_year_by_state/Kentucky_All_Geographies_Not_Tracts_Block_Groups.zip -> /home/pgr-me/gh/geoclusterizer/data/raw/2018_5_year_data/Kentucky_All_Geographies_Not_Tracts_Block_Groups.zip...\n",
      "downloading https://www2.census.gov/programs-surveys/acs/summary_file/2018/data/5_year_by_state/Kentucky_Tracts_Block_Groups_Only.zip -> /home/pgr-me/gh/geoclusterizer/data/raw/2018_5_year_data/Kentucky_Tracts_Block_Groups_Only.zip...\n",
      "downloading https://www2.census.gov/programs-surveys/acs/summary_file/2018/data/5_year_by_state/Louisiana_All_Geographies_Not_Tracts_Block_Groups.zip -> /home/pgr-me/gh/geoclusterizer/data/raw/2018_5_year_data/Louisiana_All_Geographies_Not_Tracts_Block_Groups.zip...\n",
      "downloading https://www2.census.gov/programs-surveys/acs/summary_file/2018/data/5_year_by_state/Louisiana_Tracts_Block_Groups_Only.zip -> /home/pgr-me/gh/geoclusterizer/data/raw/2018_5_year_data/Louisiana_Tracts_Block_Groups_Only.zip...\n",
      "downloading https://www2.census.gov/programs-surveys/acs/summary_file/2018/data/5_year_by_state/Maine_All_Geographies_Not_Tracts_Block_Groups.zip -> /home/pgr-me/gh/geoclusterizer/data/raw/2018_5_year_data/Maine_All_Geographies_Not_Tracts_Block_Groups.zip...\n",
      "downloading https://www2.census.gov/programs-surveys/acs/summary_file/2018/data/5_year_by_state/Maine_Tracts_Block_Groups_Only.zip -> /home/pgr-me/gh/geoclusterizer/data/raw/2018_5_year_data/Maine_Tracts_Block_Groups_Only.zip...\n",
      "downloading https://www2.census.gov/programs-surveys/acs/summary_file/2018/data/5_year_by_state/Maryland_All_Geographies_Not_Tracts_Block_Groups.zip -> /home/pgr-me/gh/geoclusterizer/data/raw/2018_5_year_data/Maryland_All_Geographies_Not_Tracts_Block_Groups.zip...\n",
      "downloading https://www2.census.gov/programs-surveys/acs/summary_file/2018/data/5_year_by_state/Maryland_Tracts_Block_Groups_Only.zip -> /home/pgr-me/gh/geoclusterizer/data/raw/2018_5_year_data/Maryland_Tracts_Block_Groups_Only.zip...\n",
      "downloading https://www2.census.gov/programs-surveys/acs/summary_file/2018/data/5_year_by_state/Massachusetts_All_Geographies_Not_Tracts_Block_Groups.zip -> /home/pgr-me/gh/geoclusterizer/data/raw/2018_5_year_data/Massachusetts_All_Geographies_Not_Tracts_Block_Groups.zip...\n",
      "downloading https://www2.census.gov/programs-surveys/acs/summary_file/2018/data/5_year_by_state/Massachusetts_Tracts_Block_Groups_Only.zip -> /home/pgr-me/gh/geoclusterizer/data/raw/2018_5_year_data/Massachusetts_Tracts_Block_Groups_Only.zip...\n",
      "downloading https://www2.census.gov/programs-surveys/acs/summary_file/2018/data/5_year_by_state/Michigan_All_Geographies_Not_Tracts_Block_Groups.zip -> /home/pgr-me/gh/geoclusterizer/data/raw/2018_5_year_data/Michigan_All_Geographies_Not_Tracts_Block_Groups.zip...\n",
      "downloading https://www2.census.gov/programs-surveys/acs/summary_file/2018/data/5_year_by_state/Michigan_Tracts_Block_Groups_Only.zip -> /home/pgr-me/gh/geoclusterizer/data/raw/2018_5_year_data/Michigan_Tracts_Block_Groups_Only.zip...\n",
      "downloading https://www2.census.gov/programs-surveys/acs/summary_file/2018/data/5_year_by_state/Minnesota_All_Geographies_Not_Tracts_Block_Groups.zip -> /home/pgr-me/gh/geoclusterizer/data/raw/2018_5_year_data/Minnesota_All_Geographies_Not_Tracts_Block_Groups.zip...\n",
      "downloading https://www2.census.gov/programs-surveys/acs/summary_file/2018/data/5_year_by_state/Minnesota_Tracts_Block_Groups_Only.zip -> /home/pgr-me/gh/geoclusterizer/data/raw/2018_5_year_data/Minnesota_Tracts_Block_Groups_Only.zip...\n",
      "downloading https://www2.census.gov/programs-surveys/acs/summary_file/2018/data/5_year_by_state/Mississippi_All_Geographies_Not_Tracts_Block_Groups.zip -> /home/pgr-me/gh/geoclusterizer/data/raw/2018_5_year_data/Mississippi_All_Geographies_Not_Tracts_Block_Groups.zip...\n",
      "downloading https://www2.census.gov/programs-surveys/acs/summary_file/2018/data/5_year_by_state/Mississippi_Tracts_Block_Groups_Only.zip -> /home/pgr-me/gh/geoclusterizer/data/raw/2018_5_year_data/Mississippi_Tracts_Block_Groups_Only.zip...\n",
      "downloading https://www2.census.gov/programs-surveys/acs/summary_file/2018/data/5_year_by_state/Missouri_All_Geographies_Not_Tracts_Block_Groups.zip -> /home/pgr-me/gh/geoclusterizer/data/raw/2018_5_year_data/Missouri_All_Geographies_Not_Tracts_Block_Groups.zip...\n",
      "downloading https://www2.census.gov/programs-surveys/acs/summary_file/2018/data/5_year_by_state/Missouri_Tracts_Block_Groups_Only.zip -> /home/pgr-me/gh/geoclusterizer/data/raw/2018_5_year_data/Missouri_Tracts_Block_Groups_Only.zip...\n",
      "downloading https://www2.census.gov/programs-surveys/acs/summary_file/2018/data/5_year_by_state/Montana_All_Geographies_Not_Tracts_Block_Groups.zip -> /home/pgr-me/gh/geoclusterizer/data/raw/2018_5_year_data/Montana_All_Geographies_Not_Tracts_Block_Groups.zip...\n",
      "downloading https://www2.census.gov/programs-surveys/acs/summary_file/2018/data/5_year_by_state/Montana_Tracts_Block_Groups_Only.zip -> /home/pgr-me/gh/geoclusterizer/data/raw/2018_5_year_data/Montana_Tracts_Block_Groups_Only.zip...\n",
      "downloading https://www2.census.gov/programs-surveys/acs/summary_file/2018/data/5_year_by_state/Nebraska_All_Geographies_Not_Tracts_Block_Groups.zip -> /home/pgr-me/gh/geoclusterizer/data/raw/2018_5_year_data/Nebraska_All_Geographies_Not_Tracts_Block_Groups.zip...\n",
      "downloading https://www2.census.gov/programs-surveys/acs/summary_file/2018/data/5_year_by_state/Nebraska_Tracts_Block_Groups_Only.zip -> /home/pgr-me/gh/geoclusterizer/data/raw/2018_5_year_data/Nebraska_Tracts_Block_Groups_Only.zip...\n",
      "downloading https://www2.census.gov/programs-surveys/acs/summary_file/2018/data/5_year_by_state/Nevada_All_Geographies_Not_Tracts_Block_Groups.zip -> /home/pgr-me/gh/geoclusterizer/data/raw/2018_5_year_data/Nevada_All_Geographies_Not_Tracts_Block_Groups.zip...\n",
      "downloading https://www2.census.gov/programs-surveys/acs/summary_file/2018/data/5_year_by_state/Nevada_Tracts_Block_Groups_Only.zip -> /home/pgr-me/gh/geoclusterizer/data/raw/2018_5_year_data/Nevada_Tracts_Block_Groups_Only.zip...\n",
      "downloading https://www2.census.gov/programs-surveys/acs/summary_file/2018/data/5_year_by_state/NewHampshire_All_Geographies_Not_Tracts_Block_Groups.zip -> /home/pgr-me/gh/geoclusterizer/data/raw/2018_5_year_data/NewHampshire_All_Geographies_Not_Tracts_Block_Groups.zip...\n",
      "downloading https://www2.census.gov/programs-surveys/acs/summary_file/2018/data/5_year_by_state/NewHampshire_Tracts_Block_Groups_Only.zip -> /home/pgr-me/gh/geoclusterizer/data/raw/2018_5_year_data/NewHampshire_Tracts_Block_Groups_Only.zip...\n",
      "downloading https://www2.census.gov/programs-surveys/acs/summary_file/2018/data/5_year_by_state/NewJersey_All_Geographies_Not_Tracts_Block_Groups.zip -> /home/pgr-me/gh/geoclusterizer/data/raw/2018_5_year_data/NewJersey_All_Geographies_Not_Tracts_Block_Groups.zip...\n",
      "downloading https://www2.census.gov/programs-surveys/acs/summary_file/2018/data/5_year_by_state/NewJersey_Tracts_Block_Groups_Only.zip -> /home/pgr-me/gh/geoclusterizer/data/raw/2018_5_year_data/NewJersey_Tracts_Block_Groups_Only.zip...\n",
      "downloading https://www2.census.gov/programs-surveys/acs/summary_file/2018/data/5_year_by_state/NewMexico_All_Geographies_Not_Tracts_Block_Groups.zip -> /home/pgr-me/gh/geoclusterizer/data/raw/2018_5_year_data/NewMexico_All_Geographies_Not_Tracts_Block_Groups.zip...\n",
      "downloading https://www2.census.gov/programs-surveys/acs/summary_file/2018/data/5_year_by_state/NewMexico_Tracts_Block_Groups_Only.zip -> /home/pgr-me/gh/geoclusterizer/data/raw/2018_5_year_data/NewMexico_Tracts_Block_Groups_Only.zip...\n",
      "downloading https://www2.census.gov/programs-surveys/acs/summary_file/2018/data/5_year_by_state/NewYork_All_Geographies_Not_Tracts_Block_Groups.zip -> /home/pgr-me/gh/geoclusterizer/data/raw/2018_5_year_data/NewYork_All_Geographies_Not_Tracts_Block_Groups.zip...\n",
      "downloading https://www2.census.gov/programs-surveys/acs/summary_file/2018/data/5_year_by_state/NewYork_Tracts_Block_Groups_Only.zip -> /home/pgr-me/gh/geoclusterizer/data/raw/2018_5_year_data/NewYork_Tracts_Block_Groups_Only.zip...\n",
      "downloading https://www2.census.gov/programs-surveys/acs/summary_file/2018/data/5_year_by_state/NorthCarolina_All_Geographies_Not_Tracts_Block_Groups.zip -> /home/pgr-me/gh/geoclusterizer/data/raw/2018_5_year_data/NorthCarolina_All_Geographies_Not_Tracts_Block_Groups.zip...\n",
      "downloading https://www2.census.gov/programs-surveys/acs/summary_file/2018/data/5_year_by_state/NorthCarolina_Tracts_Block_Groups_Only.zip -> /home/pgr-me/gh/geoclusterizer/data/raw/2018_5_year_data/NorthCarolina_Tracts_Block_Groups_Only.zip...\n",
      "downloading https://www2.census.gov/programs-surveys/acs/summary_file/2018/data/5_year_by_state/NorthDakota_All_Geographies_Not_Tracts_Block_Groups.zip -> /home/pgr-me/gh/geoclusterizer/data/raw/2018_5_year_data/NorthDakota_All_Geographies_Not_Tracts_Block_Groups.zip...\n",
      "downloading https://www2.census.gov/programs-surveys/acs/summary_file/2018/data/5_year_by_state/NorthDakota_Tracts_Block_Groups_Only.zip -> /home/pgr-me/gh/geoclusterizer/data/raw/2018_5_year_data/NorthDakota_Tracts_Block_Groups_Only.zip...\n",
      "downloading https://www2.census.gov/programs-surveys/acs/summary_file/2018/data/5_year_by_state/Ohio_All_Geographies_Not_Tracts_Block_Groups.zip -> /home/pgr-me/gh/geoclusterizer/data/raw/2018_5_year_data/Ohio_All_Geographies_Not_Tracts_Block_Groups.zip...\n",
      "downloading https://www2.census.gov/programs-surveys/acs/summary_file/2018/data/5_year_by_state/Ohio_Tracts_Block_Groups_Only.zip -> /home/pgr-me/gh/geoclusterizer/data/raw/2018_5_year_data/Ohio_Tracts_Block_Groups_Only.zip...\n",
      "downloading https://www2.census.gov/programs-surveys/acs/summary_file/2018/data/5_year_by_state/Oklahoma_All_Geographies_Not_Tracts_Block_Groups.zip -> /home/pgr-me/gh/geoclusterizer/data/raw/2018_5_year_data/Oklahoma_All_Geographies_Not_Tracts_Block_Groups.zip...\n",
      "downloading https://www2.census.gov/programs-surveys/acs/summary_file/2018/data/5_year_by_state/Oklahoma_Tracts_Block_Groups_Only.zip -> /home/pgr-me/gh/geoclusterizer/data/raw/2018_5_year_data/Oklahoma_Tracts_Block_Groups_Only.zip...\n",
      "downloading https://www2.census.gov/programs-surveys/acs/summary_file/2018/data/5_year_by_state/Oregon_All_Geographies_Not_Tracts_Block_Groups.zip -> /home/pgr-me/gh/geoclusterizer/data/raw/2018_5_year_data/Oregon_All_Geographies_Not_Tracts_Block_Groups.zip...\n",
      "downloading https://www2.census.gov/programs-surveys/acs/summary_file/2018/data/5_year_by_state/Oregon_Tracts_Block_Groups_Only.zip -> /home/pgr-me/gh/geoclusterizer/data/raw/2018_5_year_data/Oregon_Tracts_Block_Groups_Only.zip...\n",
      "downloading https://www2.census.gov/programs-surveys/acs/summary_file/2018/data/5_year_by_state/Pennsylvania_All_Geographies_Not_Tracts_Block_Groups.zip -> /home/pgr-me/gh/geoclusterizer/data/raw/2018_5_year_data/Pennsylvania_All_Geographies_Not_Tracts_Block_Groups.zip...\n",
      "downloading https://www2.census.gov/programs-surveys/acs/summary_file/2018/data/5_year_by_state/Pennsylvania_Tracts_Block_Groups_Only.zip -> /home/pgr-me/gh/geoclusterizer/data/raw/2018_5_year_data/Pennsylvania_Tracts_Block_Groups_Only.zip...\n",
      "downloading https://www2.census.gov/programs-surveys/acs/summary_file/2018/data/5_year_by_state/PuertoRico_All_Geographies_Not_Tracts_Block_Groups.zip -> /home/pgr-me/gh/geoclusterizer/data/raw/2018_5_year_data/PuertoRico_All_Geographies_Not_Tracts_Block_Groups.zip...\n",
      "downloading https://www2.census.gov/programs-surveys/acs/summary_file/2018/data/5_year_by_state/PuertoRico_Tracts_Block_Groups_Only.zip -> /home/pgr-me/gh/geoclusterizer/data/raw/2018_5_year_data/PuertoRico_Tracts_Block_Groups_Only.zip...\n",
      "downloading https://www2.census.gov/programs-surveys/acs/summary_file/2018/data/5_year_by_state/RhodeIsland_All_Geographies_Not_Tracts_Block_Groups.zip -> /home/pgr-me/gh/geoclusterizer/data/raw/2018_5_year_data/RhodeIsland_All_Geographies_Not_Tracts_Block_Groups.zip...\n",
      "downloading https://www2.census.gov/programs-surveys/acs/summary_file/2018/data/5_year_by_state/RhodeIsland_Tracts_Block_Groups_Only.zip -> /home/pgr-me/gh/geoclusterizer/data/raw/2018_5_year_data/RhodeIsland_Tracts_Block_Groups_Only.zip...\n",
      "downloading https://www2.census.gov/programs-surveys/acs/summary_file/2018/data/5_year_by_state/SouthCarolina_All_Geographies_Not_Tracts_Block_Groups.zip -> /home/pgr-me/gh/geoclusterizer/data/raw/2018_5_year_data/SouthCarolina_All_Geographies_Not_Tracts_Block_Groups.zip...\n",
      "downloading https://www2.census.gov/programs-surveys/acs/summary_file/2018/data/5_year_by_state/SouthCarolina_Tracts_Block_Groups_Only.zip -> /home/pgr-me/gh/geoclusterizer/data/raw/2018_5_year_data/SouthCarolina_Tracts_Block_Groups_Only.zip...\n",
      "downloading https://www2.census.gov/programs-surveys/acs/summary_file/2018/data/5_year_by_state/SouthDakota_All_Geographies_Not_Tracts_Block_Groups.zip -> /home/pgr-me/gh/geoclusterizer/data/raw/2018_5_year_data/SouthDakota_All_Geographies_Not_Tracts_Block_Groups.zip...\n",
      "downloading https://www2.census.gov/programs-surveys/acs/summary_file/2018/data/5_year_by_state/SouthDakota_Tracts_Block_Groups_Only.zip -> /home/pgr-me/gh/geoclusterizer/data/raw/2018_5_year_data/SouthDakota_Tracts_Block_Groups_Only.zip...\n",
      "downloading https://www2.census.gov/programs-surveys/acs/summary_file/2018/data/5_year_by_state/Tennessee_All_Geographies_Not_Tracts_Block_Groups.zip -> /home/pgr-me/gh/geoclusterizer/data/raw/2018_5_year_data/Tennessee_All_Geographies_Not_Tracts_Block_Groups.zip...\n",
      "downloading https://www2.census.gov/programs-surveys/acs/summary_file/2018/data/5_year_by_state/Tennessee_Tracts_Block_Groups_Only.zip -> /home/pgr-me/gh/geoclusterizer/data/raw/2018_5_year_data/Tennessee_Tracts_Block_Groups_Only.zip...\n",
      "downloading https://www2.census.gov/programs-surveys/acs/summary_file/2018/data/5_year_by_state/Texas_All_Geographies_Not_Tracts_Block_Groups.zip -> /home/pgr-me/gh/geoclusterizer/data/raw/2018_5_year_data/Texas_All_Geographies_Not_Tracts_Block_Groups.zip...\n",
      "downloading https://www2.census.gov/programs-surveys/acs/summary_file/2018/data/5_year_by_state/Texas_Tracts_Block_Groups_Only.zip -> /home/pgr-me/gh/geoclusterizer/data/raw/2018_5_year_data/Texas_Tracts_Block_Groups_Only.zip...\n",
      "downloading https://www2.census.gov/programs-surveys/acs/summary_file/2018/data/5_year_by_state/UnitedStates_All_Geographies_Not_Tracts_Block_Groups.zip -> /home/pgr-me/gh/geoclusterizer/data/raw/2018_5_year_data/UnitedStates_All_Geographies_Not_Tracts_Block_Groups.zip...\n",
      "downloading https://www2.census.gov/programs-surveys/acs/summary_file/2018/data/5_year_by_state/UnitedStates_Tracts_Block_Groups_Only.zip -> /home/pgr-me/gh/geoclusterizer/data/raw/2018_5_year_data/UnitedStates_Tracts_Block_Groups_Only.zip...\n",
      "downloading https://www2.census.gov/programs-surveys/acs/summary_file/2018/data/5_year_by_state/Utah_All_Geographies_Not_Tracts_Block_Groups.zip -> /home/pgr-me/gh/geoclusterizer/data/raw/2018_5_year_data/Utah_All_Geographies_Not_Tracts_Block_Groups.zip...\n",
      "downloading https://www2.census.gov/programs-surveys/acs/summary_file/2018/data/5_year_by_state/Utah_Tracts_Block_Groups_Only.zip -> /home/pgr-me/gh/geoclusterizer/data/raw/2018_5_year_data/Utah_Tracts_Block_Groups_Only.zip...\n",
      "downloading https://www2.census.gov/programs-surveys/acs/summary_file/2018/data/5_year_by_state/Vermont_All_Geographies_Not_Tracts_Block_Groups.zip -> /home/pgr-me/gh/geoclusterizer/data/raw/2018_5_year_data/Vermont_All_Geographies_Not_Tracts_Block_Groups.zip...\n",
      "downloading https://www2.census.gov/programs-surveys/acs/summary_file/2018/data/5_year_by_state/Vermont_Tracts_Block_Groups_Only.zip -> /home/pgr-me/gh/geoclusterizer/data/raw/2018_5_year_data/Vermont_Tracts_Block_Groups_Only.zip...\n",
      "downloading https://www2.census.gov/programs-surveys/acs/summary_file/2018/data/5_year_by_state/Virginia_All_Geographies_Not_Tracts_Block_Groups.zip -> /home/pgr-me/gh/geoclusterizer/data/raw/2018_5_year_data/Virginia_All_Geographies_Not_Tracts_Block_Groups.zip...\n",
      "downloading https://www2.census.gov/programs-surveys/acs/summary_file/2018/data/5_year_by_state/Virginia_Tracts_Block_Groups_Only.zip -> /home/pgr-me/gh/geoclusterizer/data/raw/2018_5_year_data/Virginia_Tracts_Block_Groups_Only.zip...\n",
      "downloading https://www2.census.gov/programs-surveys/acs/summary_file/2018/data/5_year_by_state/Washington_All_Geographies_Not_Tracts_Block_Groups.zip -> /home/pgr-me/gh/geoclusterizer/data/raw/2018_5_year_data/Washington_All_Geographies_Not_Tracts_Block_Groups.zip...\n",
      "downloading https://www2.census.gov/programs-surveys/acs/summary_file/2018/data/5_year_by_state/Washington_Tracts_Block_Groups_Only.zip -> /home/pgr-me/gh/geoclusterizer/data/raw/2018_5_year_data/Washington_Tracts_Block_Groups_Only.zip...\n",
      "downloading https://www2.census.gov/programs-surveys/acs/summary_file/2018/data/5_year_by_state/WestVirginia_All_Geographies_Not_Tracts_Block_Groups.zip -> /home/pgr-me/gh/geoclusterizer/data/raw/2018_5_year_data/WestVirginia_All_Geographies_Not_Tracts_Block_Groups.zip...\n",
      "downloading https://www2.census.gov/programs-surveys/acs/summary_file/2018/data/5_year_by_state/WestVirginia_Tracts_Block_Groups_Only.zip -> /home/pgr-me/gh/geoclusterizer/data/raw/2018_5_year_data/WestVirginia_Tracts_Block_Groups_Only.zip...\n",
      "downloading https://www2.census.gov/programs-surveys/acs/summary_file/2018/data/5_year_by_state/Wisconsin_All_Geographies_Not_Tracts_Block_Groups.zip -> /home/pgr-me/gh/geoclusterizer/data/raw/2018_5_year_data/Wisconsin_All_Geographies_Not_Tracts_Block_Groups.zip...\n",
      "downloading https://www2.census.gov/programs-surveys/acs/summary_file/2018/data/5_year_by_state/Wisconsin_Tracts_Block_Groups_Only.zip -> /home/pgr-me/gh/geoclusterizer/data/raw/2018_5_year_data/Wisconsin_Tracts_Block_Groups_Only.zip...\n",
      "downloading https://www2.census.gov/programs-surveys/acs/summary_file/2018/data/5_year_by_state/Wyoming_All_Geographies_Not_Tracts_Block_Groups.zip -> /home/pgr-me/gh/geoclusterizer/data/raw/2018_5_year_data/Wyoming_All_Geographies_Not_Tracts_Block_Groups.zip...\n",
      "downloading https://www2.census.gov/programs-surveys/acs/summary_file/2018/data/5_year_by_state/Wyoming_Tracts_Block_Groups_Only.zip -> /home/pgr-me/gh/geoclusterizer/data/raw/2018_5_year_data/Wyoming_Tracts_Block_Groups_Only.zip...\n"
     ]
    },
    {
     "data": {
      "text/plain": [
       "True"
      ]
     },
     "execution_count": 20,
     "metadata": {},
     "output_type": "execute_result"
    }
   ],
   "source": [
    "RAW_DIR = Path('/home/pgr-me/gh/geoclusterizer/data/raw')\n",
    "lookup_url = f'https://www2.census.gov/programs-surveys/acs/summary_file/{ACS_YEAR}/documentation/user_tools/ACS_{ACS_SPAN}yr_Seq_Table_Number_Lookup.txt'\n",
    "lookup_fn =  f'{ACS_SPAN}y_lookup.txt'\n",
    "data_url = f'https://www2.census.gov/programs-surveys/acs/summary_file/{ACS_YEAR}/data/{ACS_SPAN}_year_by_state'\n",
    "data_dir = settings\n",
    "\n",
    "acs = ACS(ACS_YEAR, ACS_SPAN, RAW_ACS_DATA_DIR, overwrite=False)\n",
    "acs.get_acs_metadata()\n",
    "acs.get_acs_data()\n",
    "\n",
    "\n",
    "\n",
    "\n",
    "# mortgage_data = ACS().get_table('MORTGAGE STATUS', 'Housing')\n",
    "# value_data = FiveYearACS().get_table('MEDIAN VALUE (DOLLARS)', 'Housing')\n",
    "# tax_data = FiveYearACS().get_table('MORTGAGE STATUS BY MEDIAN REAL ESTATE TAXES PAID (DOLLARS)', 'Housing')\n",
    "\n",
    "# geos = acs.get_geos()\n",
    "# raise\n",
    "# for k, name in geos.items():\n",
    "#     tax = tax_data.get(k, {}).get('Median real estate taxes paid for units with a mortgage')\n",
    "#     value = value_data.get(k, {}).get('Median value (dollars)')\n",
    "#     mortgage = mortgage_data.get(k, {}).get('Housing units with a mortgage, contract to purchase, or similar debt:')\n",
    "#     if tax and value and mortgage:\n",
    "#         print('%6.2f%% %6d %s' % (100. * tax / value, mortgage, name))"
   ]
  },
  {
   "cell_type": "code",
   "execution_count": 71,
   "metadata": {},
   "outputs": [],
   "source": [
    "acs.get_data()"
   ]
  },
  {
   "cell_type": "code",
   "execution_count": 57,
   "metadata": {},
   "outputs": [
    {
     "name": "stdout",
     "output_type": "stream",
     "text": [
      "subject_area table_title\n",
      "UNWEIGHTED SAMPLE COUNT OF THE POPULATION    Unweighted Count\n",
      "UNWEIGHTED SAMPLE HOUSING UNITS              Unweighted Count\n",
      "Name: subject_area, dtype: object\n"
     ]
    }
   ],
   "source": [
    "for i, k in lookups.head(2).iteritems():\n",
    "    print(i, k)"
   ]
  }
 ],
 "metadata": {
  "kernelspec": {
   "display_name": "Python [conda env:geoclusterizer] *",
   "language": "python",
   "name": "conda-env-geoclusterizer-py"
  },
  "language_info": {
   "codemirror_mode": {
    "name": "ipython",
    "version": 3
   },
   "file_extension": ".py",
   "mimetype": "text/x-python",
   "name": "python",
   "nbconvert_exporter": "python",
   "pygments_lexer": "ipython3",
   "version": "3.8.5"
  }
 },
 "nbformat": 4,
 "nbformat_minor": 4
}
